{
 "cells": [
  {
   "cell_type": "markdown",
   "metadata": {},
   "source": [
    "# Create a Web Application for an ETF Analyzer\n",
    "\n",
    "In this Challenge assignment, you’ll build a financial database and web application by using SQL, Python, and the Voilà library to analyze the performance of a hypothetical fintech ETF.\n",
    "\n",
    "Instructions: \n",
    "\n",
    "Use this notebook to complete your analysis of a fintech ETF that consists of four stocks: GOST, GS, PYPL, and SQ. Each stock has its own table in the `etf.db` database, which the `Starter_Code` folder also contains.\n",
    "\n",
    "Analyze the daily returns of the ETF stocks both individually and as a whole. Then deploy the visualizations to a web application by using the Voilà library.\n",
    "\n",
    "The detailed instructions are divided into the following parts:\n",
    "\n",
    "* Analyze a single asset in the ETF\n",
    "\n",
    "* Optimize data access with Advanced SQL queries\n",
    "\n",
    "* Analyze the ETF portfolio\n",
    "\n",
    "* Deploy the notebook as a web application\n",
    "\n",
    "#### Analyze a Single Asset in the ETF\n",
    "\n",
    "For this part of the assignment, you’ll use SQL queries with Python, Pandas, and hvPlot to analyze the performance of a single asset from the ETF.\n",
    "\n",
    "Complete the following steps:\n",
    "\n",
    "1. Write a SQL `SELECT` statement by using an f-string that reads all the PYPL data from the database. Using the SQL `SELECT` statement, execute a query that reads the PYPL data from the database into a Pandas DataFrame.\n",
    "\n",
    "2. Use the `head` and `tail` functions to review the first five and the last five rows of the DataFrame. Make a note of the beginning and end dates that are available from this dataset. You’ll use this information to complete your analysis.\n",
    "\n",
    "3. Using hvPlot, create an interactive visualization for the PYPL daily returns. Reflect the “time” column of the DataFrame on the x-axis. Make sure that you professionally style and format your visualization to enhance its readability.\n",
    "\n",
    "4. Using hvPlot, create an interactive visualization for the PYPL cumulative returns. Reflect the “time” column of the DataFrame on the x-axis. Make sure that you professionally style and format your visualization to enhance its readability.\n",
    "\n",
    "#### Optimize Data Access with Advanced SQL Queries\n",
    "\n",
    "For this part of the assignment, you’ll continue to analyze a single asset (PYPL) from the ETF. You’ll use advanced SQL queries to optimize the efficiency of accessing data from the database.\n",
    "\n",
    "Complete the following steps:\n",
    "\n",
    "1. Access the closing prices for PYPL that are greater than 200 by completing the following steps:\n",
    "\n",
    "    - Write a SQL `SELECT` statement to select the dates where the PYPL closing price was higher than 200.0.\n",
    "\n",
    "    - Using the SQL statement, read the data from the database into a Pandas DataFrame, and then review the resulting DataFrame.\n",
    "\n",
    "    - Select the “time” and “close” columns for those dates where the closing price was higher than 200.0.\n",
    "\n",
    "2. Find the top 10 daily returns for PYPL by completing the following steps:\n",
    "\n",
    "    -  Write a SQL statement to find the top 10 PYPL daily returns. Make sure to do the following:\n",
    "\n",
    "        * Use `SELECT` to select only the “time” and “daily_returns” columns.\n",
    "\n",
    "        * Use `ORDER` to sort the results in descending order by the “daily_returns” column.\n",
    "\n",
    "        * Use `LIMIT` to limit the results to the top 10 daily return values.\n",
    "\n",
    "    - Using the SQL statement, read the data from the database into a Pandas DataFrame, and then review the resulting DataFrame.\n",
    "\n",
    "#### Analyze the ETF Portfolio\n",
    "\n",
    "For this part of the assignment, you’ll build the entire ETF portfolio and then evaluate its performance. To do so, you’ll build the ETF portfolio by using SQL joins to combine all the data for each asset.\n",
    "\n",
    "Complete the following steps:\n",
    "\n",
    "1. Write a SQL query to join each table in the portfolio into a single DataFrame. To do so, complete the following steps:\n",
    "\n",
    "    - Use a SQL inner join to join each table on the “time” column. Access the “time” column in the `GDOT` table via the `GDOT.time` syntax. Access the “time” columns from the other tables via similar syntax.\n",
    "\n",
    "    - Using the SQL query, read the data from the database into a Pandas DataFrame. Review the resulting DataFrame.\n",
    "\n",
    "2. Create a DataFrame that averages the “daily_returns” columns for all four assets. Review the resulting DataFrame.\n",
    "\n",
    "    > **Hint** Assuming that this ETF contains equally weighted returns, you can average the returns for each asset to get the average returns of the portfolio. You can then use the average returns of the portfolio to calculate the annualized returns and the cumulative returns. For the calculation to get the average daily returns for the portfolio, use the following code:\n",
    "    >\n",
    "    > ```python\n",
    "    > etf_portfolio_returns = etf_portfolio['daily_returns'].mean(axis=1)\n",
    "    > ```\n",
    "    >\n",
    "    > You can use the average daily returns of the portfolio the same way that you used the daily returns of a single asset.\n",
    "\n",
    "3. Use the average daily returns in the `etf_portfolio_returns` DataFrame to calculate the annualized returns for the portfolio. Display the annualized return value of the ETF portfolio.\n",
    "\n",
    "> **Hint**  To calculate the annualized returns, multiply the mean of the `etf_portfolio_returns` values by 252.\n",
    ">\n",
    "> To convert the decimal values to percentages, multiply the results by 100.\n",
    "\n",
    "4. Use the average daily returns in the `etf_portfolio_returns` DataFrame to calculate the cumulative returns of the ETF portfolio.\n",
    "\n",
    "5. Using hvPlot, create an interactive line plot that visualizes the cumulative return values of the ETF portfolio. Reflect the “time” column of the DataFrame on the x-axis. Make sure that you professionally style and format your visualization to enhance its readability.\n",
    "\n",
    "#### Deploy the Notebook as a Web Application\n",
    "\n",
    "For this part of the assignment, complete the following steps:\n",
    "\n",
    "1. Use the Voilà library to deploy your notebook as a web application. You can deploy the web application locally on your computer.\n",
    "\n",
    "2. Take a screen recording or screenshots to show how the web application appears when using Voilà. Include the recording or screenshots in the `README.md` file for your GitHub repository.\n"
   ]
  },
  {
   "cell_type": "markdown",
   "metadata": {},
   "source": [
    "## Review the following code which imports the required libraries, initiates your SQLite database, popluates the database with records from the `etf.db` seed file that was included in your Starter_Code folder, creates the database engine, and confirms that data tables that it now contains."
   ]
  },
  {
   "cell_type": "code",
   "execution_count": 34,
   "metadata": {},
   "outputs": [
    {
     "data": {
      "text/plain": [
       "['GDOT', 'GS', 'PYPL', 'SQ']"
      ]
     },
     "execution_count": 34,
     "metadata": {},
     "output_type": "execute_result"
    }
   ],
   "source": [
    "# Importing the required libraries and dependencies\n",
    "import numpy as np\n",
    "import pandas as pd\n",
    "import hvplot.pandas\n",
    "import sqlalchemy\n",
    "\n",
    "# Create a temporary SQLite database and populate the database with content from the etf.db seed file\n",
    "database_connection_string = 'sqlite:///etf.db'\n",
    "\n",
    "# Create an engine to interact with the SQLite database\n",
    "engine = sqlalchemy.create_engine(database_connection_string)\n",
    "\n",
    "# Confirm that table names contained in the SQLite database.\n",
    "engine.table_names()"
   ]
  },
  {
   "cell_type": "markdown",
   "metadata": {},
   "source": [
    "## Analyze a single asset in the FinTech ETF\n",
    "\n",
    "For this part of the assignment, you’ll use SQL queries with Python, Pandas, and hvPlot to analyze the performance of a single asset from the ETF.\n",
    "\n",
    "Complete the following steps:\n",
    "\n",
    "1. Write a SQL `SELECT` statement by using an f-string that reads all the PYPL data from the database. Using the SQL `SELECT` statement, execute a query that reads the PYPL data from the database into a Pandas DataFrame.\n",
    "\n",
    "2. Use the `head` and `tail` functions to review the first five and the last five rows of the DataFrame. Make a note of the beginning and end dates that are available from this dataset. You’ll use this information to complete your analysis.\n",
    "\n",
    "3. Using hvPlot, create an interactive visualization for the PYPL daily returns. Reflect the “time” column of the DataFrame on the x-axis. Make sure that you professionally style and format your visualization to enhance its readability.\n",
    "\n",
    "4. Using hvPlot, create an interactive visualization for the PYPL cumulative returns. Reflect the “time” column of the DataFrame on the x-axis. Make sure that you professionally style and format your visualization to enhance its readability.\n",
    "\n"
   ]
  },
  {
   "cell_type": "markdown",
   "metadata": {},
   "source": [
    "### Step 1: Write a SQL `SELECT` statement by using an f-string that reads all the PYPL data from the database. Using the SQL `SELECT` statement, execute a query that reads the PYPL data from the database into a Pandas DataFrame."
   ]
  },
  {
   "cell_type": "code",
   "execution_count": null,
   "metadata": {},
   "outputs": [],
   "source": [
    "## \n",
    "# F STRING\n",
    "## "
   ]
  },
  {
   "cell_type": "code",
   "execution_count": 75,
   "metadata": {},
   "outputs": [],
   "source": [
    "# Write a SQL query to SELECT all of the data from the PYPL table\n",
    "query = \"SELECT * FROM PYPL\"\n",
    "\n",
    "# Use the query to read the PYPL data into a Pandas DataFrame\n",
    "pypl_dataframe = pd.read_sql_table('PYPL', con=engine)"
   ]
  },
  {
   "cell_type": "markdown",
   "metadata": {},
   "source": [
    "### Step 2: Use the `head` and `tail` functions to review the first five and the last five rows of the DataFrame. Make a note of the beginning and end dates that are available from this dataset. You’ll use this information to complete your analysis."
   ]
  },
  {
   "cell_type": "code",
   "execution_count": 67,
   "metadata": {},
   "outputs": [
    {
     "data": {
      "text/html": [
       "<div>\n",
       "<style scoped>\n",
       "    .dataframe tbody tr th:only-of-type {\n",
       "        vertical-align: middle;\n",
       "    }\n",
       "\n",
       "    .dataframe tbody tr th {\n",
       "        vertical-align: top;\n",
       "    }\n",
       "\n",
       "    .dataframe thead th {\n",
       "        text-align: right;\n",
       "    }\n",
       "</style>\n",
       "<table border=\"1\" class=\"dataframe\">\n",
       "  <thead>\n",
       "    <tr style=\"text-align: right;\">\n",
       "      <th></th>\n",
       "      <th>time</th>\n",
       "      <th>open</th>\n",
       "      <th>high</th>\n",
       "      <th>low</th>\n",
       "      <th>close</th>\n",
       "      <th>volume</th>\n",
       "      <th>daily_returns</th>\n",
       "    </tr>\n",
       "  </thead>\n",
       "  <tbody>\n",
       "    <tr>\n",
       "      <th>0</th>\n",
       "      <td>2016-12-16</td>\n",
       "      <td>39.90</td>\n",
       "      <td>39.90</td>\n",
       "      <td>39.12</td>\n",
       "      <td>39.32</td>\n",
       "      <td>7298861</td>\n",
       "      <td>-0.005564</td>\n",
       "    </tr>\n",
       "    <tr>\n",
       "      <th>1</th>\n",
       "      <td>2016-12-19</td>\n",
       "      <td>39.40</td>\n",
       "      <td>39.80</td>\n",
       "      <td>39.11</td>\n",
       "      <td>39.45</td>\n",
       "      <td>3436478</td>\n",
       "      <td>0.003306</td>\n",
       "    </tr>\n",
       "    <tr>\n",
       "      <th>2</th>\n",
       "      <td>2016-12-20</td>\n",
       "      <td>39.61</td>\n",
       "      <td>39.74</td>\n",
       "      <td>39.26</td>\n",
       "      <td>39.74</td>\n",
       "      <td>2940991</td>\n",
       "      <td>0.007351</td>\n",
       "    </tr>\n",
       "    <tr>\n",
       "      <th>3</th>\n",
       "      <td>2016-12-21</td>\n",
       "      <td>39.84</td>\n",
       "      <td>40.74</td>\n",
       "      <td>39.82</td>\n",
       "      <td>40.09</td>\n",
       "      <td>5826704</td>\n",
       "      <td>0.008807</td>\n",
       "    </tr>\n",
       "    <tr>\n",
       "      <th>4</th>\n",
       "      <td>2016-12-22</td>\n",
       "      <td>40.04</td>\n",
       "      <td>40.09</td>\n",
       "      <td>39.54</td>\n",
       "      <td>39.68</td>\n",
       "      <td>4338385</td>\n",
       "      <td>-0.010227</td>\n",
       "    </tr>\n",
       "  </tbody>\n",
       "</table>\n",
       "</div>"
      ],
      "text/plain": [
       "        time   open   high    low  close   volume  daily_returns\n",
       "0 2016-12-16  39.90  39.90  39.12  39.32  7298861      -0.005564\n",
       "1 2016-12-19  39.40  39.80  39.11  39.45  3436478       0.003306\n",
       "2 2016-12-20  39.61  39.74  39.26  39.74  2940991       0.007351\n",
       "3 2016-12-21  39.84  40.74  39.82  40.09  5826704       0.008807\n",
       "4 2016-12-22  40.04  40.09  39.54  39.68  4338385      -0.010227"
      ]
     },
     "execution_count": 67,
     "metadata": {},
     "output_type": "execute_result"
    }
   ],
   "source": [
    "# View the first 5 rows of the DataFrame.\n",
    "pypl_dataframe.head()"
   ]
  },
  {
   "cell_type": "code",
   "execution_count": 68,
   "metadata": {},
   "outputs": [
    {
     "data": {
      "text/html": [
       "<div>\n",
       "<style scoped>\n",
       "    .dataframe tbody tr th:only-of-type {\n",
       "        vertical-align: middle;\n",
       "    }\n",
       "\n",
       "    .dataframe tbody tr th {\n",
       "        vertical-align: top;\n",
       "    }\n",
       "\n",
       "    .dataframe thead th {\n",
       "        text-align: right;\n",
       "    }\n",
       "</style>\n",
       "<table border=\"1\" class=\"dataframe\">\n",
       "  <thead>\n",
       "    <tr style=\"text-align: right;\">\n",
       "      <th></th>\n",
       "      <th>time</th>\n",
       "      <th>open</th>\n",
       "      <th>high</th>\n",
       "      <th>low</th>\n",
       "      <th>close</th>\n",
       "      <th>volume</th>\n",
       "      <th>daily_returns</th>\n",
       "    </tr>\n",
       "  </thead>\n",
       "  <tbody>\n",
       "    <tr>\n",
       "      <th>994</th>\n",
       "      <td>2020-11-30</td>\n",
       "      <td>212.51</td>\n",
       "      <td>215.83</td>\n",
       "      <td>207.0900</td>\n",
       "      <td>214.200</td>\n",
       "      <td>8992681</td>\n",
       "      <td>0.013629</td>\n",
       "    </tr>\n",
       "    <tr>\n",
       "      <th>995</th>\n",
       "      <td>2020-12-01</td>\n",
       "      <td>217.15</td>\n",
       "      <td>220.57</td>\n",
       "      <td>214.3401</td>\n",
       "      <td>216.520</td>\n",
       "      <td>9148174</td>\n",
       "      <td>0.010831</td>\n",
       "    </tr>\n",
       "    <tr>\n",
       "      <th>996</th>\n",
       "      <td>2020-12-02</td>\n",
       "      <td>215.60</td>\n",
       "      <td>215.75</td>\n",
       "      <td>210.5000</td>\n",
       "      <td>212.660</td>\n",
       "      <td>6414746</td>\n",
       "      <td>-0.017827</td>\n",
       "    </tr>\n",
       "    <tr>\n",
       "      <th>997</th>\n",
       "      <td>2020-12-03</td>\n",
       "      <td>213.33</td>\n",
       "      <td>216.93</td>\n",
       "      <td>213.1100</td>\n",
       "      <td>214.680</td>\n",
       "      <td>6463339</td>\n",
       "      <td>0.009499</td>\n",
       "    </tr>\n",
       "    <tr>\n",
       "      <th>998</th>\n",
       "      <td>2020-12-04</td>\n",
       "      <td>214.88</td>\n",
       "      <td>217.28</td>\n",
       "      <td>213.0100</td>\n",
       "      <td>217.235</td>\n",
       "      <td>2118319</td>\n",
       "      <td>0.011901</td>\n",
       "    </tr>\n",
       "  </tbody>\n",
       "</table>\n",
       "</div>"
      ],
      "text/plain": [
       "          time    open    high       low    close   volume  daily_returns\n",
       "994 2020-11-30  212.51  215.83  207.0900  214.200  8992681       0.013629\n",
       "995 2020-12-01  217.15  220.57  214.3401  216.520  9148174       0.010831\n",
       "996 2020-12-02  215.60  215.75  210.5000  212.660  6414746      -0.017827\n",
       "997 2020-12-03  213.33  216.93  213.1100  214.680  6463339       0.009499\n",
       "998 2020-12-04  214.88  217.28  213.0100  217.235  2118319       0.011901"
      ]
     },
     "execution_count": 68,
     "metadata": {},
     "output_type": "execute_result"
    }
   ],
   "source": [
    "# View the last 5 rows of the DataFrame.\n",
    "pypl_dataframe.tail()"
   ]
  },
  {
   "cell_type": "markdown",
   "metadata": {},
   "source": [
    "### Step 3: Using hvPlot, create an interactive visualization for the PYPL daily returns. Reflect the “time” column of the DataFrame on the x-axis. Make sure that you professionally style and format your visualization to enhance its readability."
   ]
  },
  {
   "cell_type": "code",
   "execution_count": 72,
   "metadata": {},
   "outputs": [
    {
     "data": {},
     "metadata": {},
     "output_type": "display_data"
    },
    {
     "data": {
      "application/vnd.holoviews_exec.v0+json": "",
      "text/html": [
       "<div id='1598'>\n",
       "\n",
       "\n",
       "\n",
       "\n",
       "\n",
       "  <div class=\"bk-root\" id=\"45ce7120-2801-431d-bce9-7fac1c1e0a18\" data-root-id=\"1598\"></div>\n",
       "</div>\n",
       "<script type=\"application/javascript\">(function(root) {\n",
       "  function embed_document(root) {\n",
       "    var docs_json = {\"dc8a8259-0e70-48fa-a65b-6a59b6635eea\":{\"roots\":{\"references\":[{\"attributes\":{\"end\":0.1715458661010297,\"reset_end\":0.1715458661010297,\"reset_start\":-0.19523816539422575,\"start\":-0.19523816539422575,\"tags\":[[[\"daily_returns\",\"daily_returns\",null]]]},\"id\":\"1601\",\"type\":\"Range1d\"},{\"attributes\":{},\"id\":\"1665\",\"type\":\"UnionRenderers\"},{\"attributes\":{\"base\":24,\"mantissas\":[1,2,4,6,8,12],\"max_interval\":43200000.0,\"min_interval\":3600000.0,\"num_minor_ticks\":0},\"id\":\"1655\",\"type\":\"AdaptiveTicker\"},{\"attributes\":{},\"id\":\"1617\",\"type\":\"BasicTicker\"},{\"attributes\":{\"children\":[{\"id\":\"1599\"},{\"id\":\"1603\"},{\"id\":\"1686\"}],\"margin\":[0,0,0,0],\"name\":\"Row02707\",\"tags\":[\"embedded\"]},\"id\":\"1598\",\"type\":\"Row\"},{\"attributes\":{\"below\":[{\"id\":\"1612\"}],\"center\":[{\"id\":\"1615\"},{\"id\":\"1619\"}],\"left\":[{\"id\":\"1616\"}],\"margin\":[5,5,5,5],\"min_border_bottom\":10,\"min_border_left\":10,\"min_border_right\":10,\"min_border_top\":10,\"plot_height\":300,\"plot_width\":700,\"renderers\":[{\"id\":\"1639\"}],\"sizing_mode\":\"fixed\",\"title\":{\"id\":\"1604\"},\"toolbar\":{\"id\":\"1626\"},\"x_range\":{\"id\":\"1600\"},\"x_scale\":{\"id\":\"1608\"},\"y_range\":{\"id\":\"1601\"},\"y_scale\":{\"id\":\"1610\"}},\"id\":\"1603\",\"subtype\":\"Figure\",\"type\":\"Plot\"},{\"attributes\":{\"num_minor_ticks\":5,\"tickers\":[{\"id\":\"1653\"},{\"id\":\"1654\"},{\"id\":\"1655\"},{\"id\":\"1656\"},{\"id\":\"1657\"},{\"id\":\"1658\"},{\"id\":\"1659\"},{\"id\":\"1660\"},{\"id\":\"1661\"},{\"id\":\"1662\"},{\"id\":\"1663\"},{\"id\":\"1664\"}]},\"id\":\"1613\",\"type\":\"DatetimeTicker\"},{\"attributes\":{\"axis\":{\"id\":\"1612\"},\"grid_line_color\":null,\"ticker\":null},\"id\":\"1615\",\"type\":\"Grid\"},{\"attributes\":{},\"id\":\"1610\",\"type\":\"LinearScale\"},{\"attributes\":{\"base\":60,\"mantissas\":[1,2,5,10,15,20,30],\"max_interval\":1800000.0,\"min_interval\":1000.0,\"num_minor_ticks\":0},\"id\":\"1654\",\"type\":\"AdaptiveTicker\"},{\"attributes\":{\"axis_label\":\"Time\",\"bounds\":\"auto\",\"formatter\":{\"id\":\"1642\"},\"major_label_orientation\":\"horizontal\",\"ticker\":{\"id\":\"1613\"}},\"id\":\"1612\",\"type\":\"DatetimeAxis\"},{\"attributes\":{\"margin\":[5,5,5,5],\"name\":\"HSpacer02711\",\"sizing_mode\":\"stretch_width\"},\"id\":\"1599\",\"type\":\"Spacer\"},{\"attributes\":{\"axis\":{\"id\":\"1616\"},\"dimension\":1,\"grid_line_color\":null,\"ticker\":null},\"id\":\"1619\",\"type\":\"Grid\"},{\"attributes\":{\"line_color\":\"#1f77b3\",\"line_width\":2,\"x\":{\"field\":\"time\"},\"y\":{\"field\":\"daily_returns\"}},\"id\":\"1636\",\"type\":\"Line\"},{\"attributes\":{\"axis_label\":\"Daily Returns\",\"bounds\":\"auto\",\"formatter\":{\"id\":\"1641\"},\"major_label_orientation\":\"horizontal\",\"ticker\":{\"id\":\"1617\"}},\"id\":\"1616\",\"type\":\"LinearAxis\"},{\"attributes\":{\"text\":\"PYPL Daily Returns\",\"text_color\":{\"value\":\"black\"},\"text_font_size\":{\"value\":\"12pt\"}},\"id\":\"1604\",\"type\":\"Title\"},{\"attributes\":{},\"id\":\"1608\",\"type\":\"LinearScale\"},{\"attributes\":{\"end\":1607040000000.0,\"reset_end\":1607040000000.0,\"reset_start\":1481846400000.0,\"start\":1481846400000.0,\"tags\":[[[\"time\",\"time\",null]]]},\"id\":\"1600\",\"type\":\"Range1d\"},{\"attributes\":{\"line_alpha\":0.2,\"line_color\":\"#1f77b3\",\"line_width\":2,\"x\":{\"field\":\"time\"},\"y\":{\"field\":\"daily_returns\"}},\"id\":\"1638\",\"type\":\"Line\"},{\"attributes\":{\"bottom_units\":\"screen\",\"fill_alpha\":0.5,\"fill_color\":\"lightgrey\",\"left_units\":\"screen\",\"level\":\"overlay\",\"line_alpha\":1.0,\"line_color\":\"black\",\"line_dash\":[4,4],\"line_width\":2,\"right_units\":\"screen\",\"top_units\":\"screen\"},\"id\":\"1625\",\"type\":\"BoxAnnotation\"},{\"attributes\":{\"days\":[1,2,3,4,5,6,7,8,9,10,11,12,13,14,15,16,17,18,19,20,21,22,23,24,25,26,27,28,29,30,31]},\"id\":\"1656\",\"type\":\"DaysTicker\"},{\"attributes\":{\"active_drag\":\"auto\",\"active_inspect\":\"auto\",\"active_multi\":null,\"active_scroll\":\"auto\",\"active_tap\":\"auto\",\"tools\":[{\"id\":\"1602\"},{\"id\":\"1620\"},{\"id\":\"1621\"},{\"id\":\"1622\"},{\"id\":\"1623\"},{\"id\":\"1624\"}]},\"id\":\"1626\",\"type\":\"Toolbar\"},{\"attributes\":{\"days\":[1,4,7,10,13,16,19,22,25,28]},\"id\":\"1657\",\"type\":\"DaysTicker\"},{\"attributes\":{},\"id\":\"1620\",\"type\":\"SaveTool\"},{\"attributes\":{\"source\":{\"id\":\"1633\"}},\"id\":\"1640\",\"type\":\"CDSView\"},{\"attributes\":{\"mantissas\":[1,2,5],\"max_interval\":500.0,\"num_minor_ticks\":0},\"id\":\"1653\",\"type\":\"AdaptiveTicker\"},{\"attributes\":{\"days\":[1,8,15,22]},\"id\":\"1658\",\"type\":\"DaysTicker\"},{\"attributes\":{},\"id\":\"1624\",\"type\":\"ResetTool\"},{\"attributes\":{},\"id\":\"1621\",\"type\":\"PanTool\"},{\"attributes\":{\"format\":\"%.0f\"},\"id\":\"1641\",\"type\":\"PrintfTickFormatter\"},{\"attributes\":{\"days\":[1,15]},\"id\":\"1659\",\"type\":\"DaysTicker\"},{\"attributes\":{\"line_alpha\":0.1,\"line_color\":\"#1f77b3\",\"line_width\":2,\"x\":{\"field\":\"time\"},\"y\":{\"field\":\"daily_returns\"}},\"id\":\"1637\",\"type\":\"Line\"},{\"attributes\":{},\"id\":\"1622\",\"type\":\"WheelZoomTool\"},{\"attributes\":{},\"id\":\"1642\",\"type\":\"DatetimeTickFormatter\"},{\"attributes\":{\"months\":[0,1,2,3,4,5,6,7,8,9,10,11]},\"id\":\"1660\",\"type\":\"MonthsTicker\"},{\"attributes\":{\"data\":{\"daily_returns\":{\"__ndarray__\":\"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\",\"dtype\":\"float64\",\"order\":\"little\",\"shape\":[999]},\"time\":{\"__ndarray__\":\"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\",\"dtype\":\"float64\",\"order\":\"little\",\"shape\":[999]}},\"selected\":{\"id\":\"1634\"},\"selection_policy\":{\"id\":\"1665\"}},\"id\":\"1633\",\"type\":\"ColumnDataSource\"},{\"attributes\":{\"margin\":[5,5,5,5],\"name\":\"HSpacer02712\",\"sizing_mode\":\"stretch_width\"},\"id\":\"1686\",\"type\":\"Spacer\"},{\"attributes\":{\"overlay\":{\"id\":\"1625\"}},\"id\":\"1623\",\"type\":\"BoxZoomTool\"},{\"attributes\":{\"months\":[0,2,4,6,8,10]},\"id\":\"1661\",\"type\":\"MonthsTicker\"},{\"attributes\":{\"data_source\":{\"id\":\"1633\"},\"glyph\":{\"id\":\"1636\"},\"hover_glyph\":null,\"muted_glyph\":{\"id\":\"1638\"},\"nonselection_glyph\":{\"id\":\"1637\"},\"selection_glyph\":null,\"view\":{\"id\":\"1640\"}},\"id\":\"1639\",\"type\":\"GlyphRenderer\"},{\"attributes\":{\"months\":[0,4,8]},\"id\":\"1662\",\"type\":\"MonthsTicker\"},{\"attributes\":{},\"id\":\"1634\",\"type\":\"Selection\"},{\"attributes\":{\"months\":[0,6]},\"id\":\"1663\",\"type\":\"MonthsTicker\"},{\"attributes\":{\"callback\":null,\"formatters\":{\"@{time}\":\"datetime\"},\"renderers\":[{\"id\":\"1639\"}],\"tags\":[\"hv_created\"],\"tooltips\":[[\"time\",\"@{time}{%F %T}\"],[\"daily_returns\",\"@{daily_returns}\"]]},\"id\":\"1602\",\"type\":\"HoverTool\"},{\"attributes\":{},\"id\":\"1664\",\"type\":\"YearsTicker\"}],\"root_ids\":[\"1598\"]},\"title\":\"Bokeh Application\",\"version\":\"2.2.3\"}};\n",
       "    var render_items = [{\"docid\":\"dc8a8259-0e70-48fa-a65b-6a59b6635eea\",\"root_ids\":[\"1598\"],\"roots\":{\"1598\":\"45ce7120-2801-431d-bce9-7fac1c1e0a18\"}}];\n",
       "    root.Bokeh.embed.embed_items_notebook(docs_json, render_items);\n",
       "  }\n",
       "  if (root.Bokeh !== undefined && root.Bokeh.Panel !== undefined) {\n",
       "    embed_document(root);\n",
       "  } else {\n",
       "    var attempts = 0;\n",
       "    var timer = setInterval(function(root) {\n",
       "      if (root.Bokeh !== undefined && root.Bokeh.Panel !== undefined) {\n",
       "        clearInterval(timer);\n",
       "        embed_document(root);\n",
       "      } else if (document.readyState == \"complete\") {\n",
       "        attempts++;\n",
       "        if (attempts > 100) {\n",
       "          clearInterval(timer);\n",
       "          console.log(\"Bokeh: ERROR: Unable to run BokehJS code because BokehJS library is missing\");\n",
       "        }\n",
       "      }\n",
       "    }, 10, root)\n",
       "  }\n",
       "})(window);</script>"
      ],
      "text/plain": [
       ":Curve   [time]   (daily_returns)"
      ]
     },
     "execution_count": 72,
     "metadata": {
      "application/vnd.holoviews_exec.v0+json": {
       "id": "1598"
      }
     },
     "output_type": "execute_result"
    }
   ],
   "source": [
    "# Create an interactive visualization with hvplot to plot the daily returns for PYPL.\n",
    "pypl_dataframe.hvplot(\n",
    "    title = \"PYPL Daily Returns\",\n",
    "    x = \"time\",\n",
    "    y = \"daily_returns\",\n",
    "    xlabel = \"Time\",\n",
    "    ylabel = \"Daily Returns\",\n",
    "    yformatter = '%.0f'\n",
    ")"
   ]
  },
  {
   "cell_type": "markdown",
   "metadata": {},
   "source": [
    "### Step 4: Using hvPlot, create an interactive visualization for the PYPL cumulative returns. Reflect the “time” column of the DataFrame on the x-axis. Make sure that you professionally style and format your visualization to enhance its readability."
   ]
  },
  {
   "cell_type": "code",
   "execution_count": 63,
   "metadata": {},
   "outputs": [
    {
     "data": {},
     "metadata": {},
     "output_type": "display_data"
    },
    {
     "data": {
      "application/vnd.holoviews_exec.v0+json": "",
      "text/html": [
       "<div id='1209'>\n",
       "\n",
       "\n",
       "\n",
       "\n",
       "\n",
       "  <div class=\"bk-root\" id=\"28915e47-9013-4274-8e7e-856704011df5\" data-root-id=\"1209\"></div>\n",
       "</div>\n",
       "<script type=\"application/javascript\">(function(root) {\n",
       "  function embed_document(root) {\n",
       "    var docs_json = {\"5ef7d18b-02f8-4e78-90f9-1f4eea06a22d\":{\"roots\":{\"references\":[{\"attributes\":{\"callback\":null,\"renderers\":[{\"id\":\"1249\"}],\"tags\":[\"hv_created\"],\"tooltips\":[[\"time\",\"@{time}\"],[\"daily_returns\",\"@{daily_returns}\"]]},\"id\":\"1213\",\"type\":\"HoverTool\"},{\"attributes\":{\"data\":{\"daily_returns\":{\"__ndarray__\":\"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\",\"dtype\":\"float64\",\"order\":\"little\",\"shape\":[999]},\"time\":[\"2016-12-16 00:00:00.000000\",\"2016-12-19 00:00:00.000000\",\"2016-12-20 00:00:00.000000\",\"2016-12-21 00:00:00.000000\",\"2016-12-22 00:00:00.000000\",\"2016-12-23 00:00:00.000000\",\"2016-12-27 00:00:00.000000\",\"2016-12-28 00:00:00.000000\",\"2016-12-29 00:00:00.000000\",\"2016-12-30 00:00:00.000000\",\"2017-01-03 00:00:00.000000\",\"2017-01-04 00:00:00.000000\",\"2017-01-05 00:00:00.000000\",\"2017-01-06 00:00:00.000000\",\"2017-01-09 00:00:00.000000\",\"2017-01-10 00:00:00.000000\",\"2017-01-11 00:00:00.000000\",\"2017-01-12 00:00:00.000000\",\"2017-01-13 00:00:00.000000\",\"2017-01-17 00:00:00.000000\",\"2017-01-18 00:00:00.000000\",\"2017-01-19 00:00:00.000000\",\"2017-01-20 00:00:00.000000\",\"2017-01-23 00:00:00.000000\",\"2017-01-24 00:00:00.000000\",\"2017-01-25 00:00:00.000000\",\"2017-01-26 00:00:00.000000\",\"2017-01-27 00:00:00.000000\",\"2017-01-30 00:00:00.000000\",\"2017-01-31 00:00:00.000000\",\"2017-02-01 00:00:00.000000\",\"2017-02-02 00:00:00.000000\",\"2017-02-03 00:00:00.000000\",\"2017-02-06 00:00:00.000000\",\"2017-02-07 00:00:00.000000\",\"2017-02-08 00:00:00.000000\",\"2017-02-09 00:00:00.000000\",\"2017-02-10 00:00:00.000000\",\"2017-02-13 00:00:00.000000\",\"2017-02-14 00:00:00.000000\",\"2017-02-15 00:00:00.000000\",\"2017-02-16 00:00:00.000000\",\"2017-02-17 00:00:00.000000\",\"2017-02-21 00:00:00.000000\",\"2017-02-22 00:00:00.000000\",\"2017-02-23 00:00:00.000000\",\"2017-02-24 00:00:00.000000\",\"2017-02-27 00:00:00.000000\",\"2017-02-28 00:00:00.000000\",\"2017-03-01 00:00:00.000000\",\"2017-03-02 00:00:00.000000\",\"2017-03-03 00:00:00.000000\",\"2017-03-06 00:00:00.000000\",\"2017-03-07 00:00:00.000000\",\"2017-03-08 00:00:00.000000\",\"2017-03-09 00:00:00.000000\",\"2017-03-10 00:00:00.000000\",\"2017-03-13 00:00:00.000000\",\"2017-03-14 00:00:00.000000\",\"2017-03-15 00:00:00.000000\",\"2017-03-16 00:00:00.000000\",\"2017-03-17 00:00:00.000000\",\"2017-03-20 00:00:00.000000\",\"2017-03-21 00:00:00.000000\",\"2017-03-22 00:00:00.000000\",\"2017-03-23 00:00:00.000000\",\"2017-03-24 00:00:00.000000\",\"2017-03-27 00:00:00.000000\",\"2017-03-28 00:00:00.000000\",\"2017-03-29 00:00:00.000000\",\"2017-03-30 00:00:00.000000\",\"2017-03-31 00:00:00.000000\",\"2017-04-03 00:00:00.000000\",\"2017-04-04 00:00:00.000000\",\"2017-04-05 00:00:00.000000\",\"2017-04-06 00:00:00.000000\",\"2017-04-07 00:00:00.000000\",\"2017-04-10 00:00:00.000000\",\"2017-04-11 00:00:00.000000\",\"2017-04-12 00:00:00.000000\",\"2017-04-13 00:00:00.000000\",\"2017-04-17 00:00:00.000000\",\"2017-04-18 00:00:00.000000\",\"2017-04-19 00:00:00.000000\",\"2017-04-20 00:00:00.000000\",\"2017-04-21 00:00:00.000000\",\"2017-04-24 00:00:00.000000\",\"2017-04-25 00:00:00.000000\",\"2017-04-26 00:00:00.000000\",\"2017-04-27 00:00:00.000000\",\"2017-04-28 00:00:00.000000\",\"2017-05-01 00:00:00.000000\",\"2017-05-02 00:00:00.000000\",\"2017-05-03 00:00:00.000000\",\"2017-05-04 00:00:00.000000\",\"2017-05-05 00:00:00.000000\",\"2017-05-08 00:00:00.000000\",\"2017-05-09 00:00:00.000000\",\"2017-05-10 00:00:00.000000\",\"2017-05-11 00:00:00.000000\",\"2017-05-12 00:00:00.000000\",\"2017-05-15 00:00:00.000000\",\"2017-05-16 00:00:00.000000\",\"2017-05-17 00:00:00.000000\",\"2017-05-18 00:00:00.000000\",\"2017-05-19 00:00:00.000000\",\"2017-05-22 00:00:00.000000\",\"2017-05-23 00:00:00.000000\",\"2017-05-24 00:00:00.000000\",\"2017-05-25 00:00:00.000000\",\"2017-05-26 00:00:00.000000\",\"2017-05-30 00:00:00.000000\",\"2017-05-31 00:00:00.000000\",\"2017-06-01 00:00:00.000000\",\"2017-06-02 00:00:00.000000\",\"2017-06-05 00:00:00.000000\",\"2017-06-06 00:00:00.000000\",\"2017-06-07 00:00:00.000000\",\"2017-06-08 00:00:00.000000\",\"2017-06-09 00:00:00.000000\",\"2017-06-12 00:00:00.000000\",\"2017-06-13 00:00:00.000000\",\"2017-06-14 00:00:00.000000\",\"2017-06-15 00:00:00.000000\",\"2017-06-16 00:00:00.000000\",\"2017-06-19 00:00:00.000000\",\"2017-06-20 00:00:00.000000\",\"2017-06-21 00:00:00.000000\",\"2017-06-22 00:00:00.000000\",\"2017-06-23 00:00:00.000000\",\"2017-06-26 00:00:00.000000\",\"2017-06-27 00:00:00.000000\",\"2017-06-28 00:00:00.000000\",\"2017-06-29 00:00:00.000000\",\"2017-06-30 00:00:00.000000\",\"2017-07-03 00:00:00.000000\",\"2017-07-05 00:00:00.000000\",\"2017-07-06 00:00:00.000000\",\"2017-07-07 00:00:00.000000\",\"2017-07-10 00:00:00.000000\",\"2017-07-11 00:00:00.000000\",\"2017-07-12 00:00:00.000000\",\"2017-07-13 00:00:00.000000\",\"2017-07-14 00:00:00.000000\",\"2017-07-17 00:00:00.000000\",\"2017-07-18 00:00:00.000000\",\"2017-07-19 00:00:00.000000\",\"2017-07-20 00:00:00.000000\",\"2017-07-21 00:00:00.000000\",\"2017-07-24 00:00:00.000000\",\"2017-07-25 00:00:00.000000\",\"2017-07-26 00:00:00.000000\",\"2017-07-27 00:00:00.000000\",\"2017-07-28 00:00:00.000000\",\"2017-07-31 00:00:00.000000\",\"2017-08-01 00:00:00.000000\",\"2017-08-02 00:00:00.000000\",\"2017-08-03 00:00:00.000000\",\"2017-08-04 00:00:00.000000\",\"2017-08-07 00:00:00.000000\",\"2017-08-08 00:00:00.000000\",\"2017-08-09 00:00:00.000000\",\"2017-08-10 00:00:00.000000\",\"2017-08-11 00:00:00.000000\",\"2017-08-14 00:00:00.000000\",\"2017-08-15 00:00:00.000000\",\"2017-08-16 00:00:00.000000\",\"2017-08-17 00:00:00.000000\",\"2017-08-18 00:00:00.000000\",\"2017-08-21 00:00:00.000000\",\"2017-08-22 00:00:00.000000\",\"2017-08-23 00:00:00.000000\",\"2017-08-24 00:00:00.000000\",\"2017-08-25 00:00:00.000000\",\"2017-08-28 00:00:00.000000\",\"2017-08-29 00:00:00.000000\",\"2017-08-30 00:00:00.000000\",\"2017-08-31 00:00:00.000000\",\"2017-09-01 00:00:00.000000\",\"2017-09-05 00:00:00.000000\",\"2017-09-06 00:00:00.000000\",\"2017-09-07 00:00:00.000000\",\"2017-09-08 00:00:00.000000\",\"2017-09-11 00:00:00.000000\",\"2017-09-12 00:00:00.000000\",\"2017-09-13 00:00:00.000000\",\"2017-09-14 00:00:00.000000\",\"2017-09-15 00:00:00.000000\",\"2017-09-18 00:00:00.000000\",\"2017-09-19 00:00:00.000000\",\"2017-09-20 00:00:00.000000\",\"2017-09-21 00:00:00.000000\",\"2017-09-22 00:00:00.000000\",\"2017-09-25 00:00:00.000000\",\"2017-09-26 00:00:00.000000\",\"2017-09-27 00:00:00.000000\",\"2017-09-28 00:00:00.000000\",\"2017-09-29 00:00:00.000000\",\"2017-10-02 00:00:00.000000\",\"2017-10-03 00:00:00.000000\",\"2017-10-04 00:00:00.000000\",\"2017-10-05 00:00:00.000000\",\"2017-10-06 00:00:00.000000\",\"2017-10-09 00:00:00.000000\",\"2017-10-10 00:00:00.000000\",\"2017-10-11 00:00:00.000000\",\"2017-10-12 00:00:00.000000\",\"2017-10-13 00:00:00.000000\",\"2017-10-16 00:00:00.000000\",\"2017-10-17 00:00:00.000000\",\"2017-10-18 00:00:00.000000\",\"2017-10-19 00:00:00.000000\",\"2017-10-20 00:00:00.000000\",\"2017-10-23 00:00:00.000000\",\"2017-10-24 00:00:00.000000\",\"2017-10-25 00:00:00.000000\",\"2017-10-26 00:00:00.000000\",\"2017-10-27 00:00:00.000000\",\"2017-10-30 00:00:00.000000\",\"2017-10-31 00:00:00.000000\",\"2017-11-01 00:00:00.000000\",\"2017-11-02 00:00:00.000000\",\"2017-11-03 00:00:00.000000\",\"2017-11-06 00:00:00.000000\",\"2017-11-07 00:00:00.000000\",\"2017-11-08 00:00:00.000000\",\"2017-11-09 00:00:00.000000\",\"2017-11-10 00:00:00.000000\",\"2017-11-13 00:00:00.000000\",\"2017-11-14 00:00:00.000000\",\"2017-11-15 00:00:00.000000\",\"2017-11-16 00:00:00.000000\",\"2017-11-17 00:00:00.000000\",\"2017-11-20 00:00:00.000000\",\"2017-11-21 00:00:00.000000\",\"2017-11-22 00:00:00.000000\",\"2017-11-24 00:00:00.000000\",\"2017-11-27 00:00:00.000000\",\"2017-11-28 00:00:00.000000\",\"2017-11-29 00:00:00.000000\",\"2017-11-30 00:00:00.000000\",\"2017-12-01 00:00:00.000000\",\"2017-12-04 00:00:00.000000\",\"2017-12-05 00:00:00.000000\",\"2017-12-06 00:00:00.000000\",\"2017-12-07 00:00:00.000000\",\"2017-12-08 00:00:00.000000\",\"2017-12-11 00:00:00.000000\",\"2017-12-12 00:00:00.000000\",\"2017-12-13 00:00:00.000000\",\"2017-12-14 00:00:00.000000\",\"2017-12-15 00:00:00.000000\",\"2017-12-18 00:00:00.000000\",\"2017-12-19 00:00:00.000000\",\"2017-12-20 00:00:00.000000\",\"2017-12-21 00:00:00.000000\",\"2017-12-22 00:00:00.000000\",\"2017-12-26 00:00:00.000000\",\"2017-12-27 00:00:00.000000\",\"2017-12-28 00:00:00.000000\",\"2017-12-29 00:00:00.000000\",\"2018-01-02 00:00:00.000000\",\"2018-01-03 00:00:00.000000\",\"2018-01-04 00:00:00.000000\",\"2018-01-05 00:00:00.000000\",\"2018-01-08 00:00:00.000000\",\"2018-01-09 00:00:00.000000\",\"2018-01-10 00:00:00.000000\",\"2018-01-11 00:00:00.000000\",\"2018-01-12 00:00:00.000000\",\"2018-01-16 00:00:00.000000\",\"2018-01-17 00:00:00.000000\",\"2018-01-18 00:00:00.000000\",\"2018-01-19 00:00:00.000000\",\"2018-01-22 00:00:00.000000\",\"2018-01-23 00:00:00.000000\",\"2018-01-24 00:00:00.000000\",\"2018-01-25 00:00:00.000000\",\"2018-01-26 00:00:00.000000\",\"2018-01-29 00:00:00.000000\",\"2018-01-30 00:00:00.000000\",\"2018-01-31 00:00:00.000000\",\"2018-02-01 00:00:00.000000\",\"2018-02-02 00:00:00.000000\",\"2018-02-05 00:00:00.000000\",\"2018-02-06 00:00:00.000000\",\"2018-02-07 00:00:00.000000\",\"2018-02-08 00:00:00.000000\",\"2018-02-09 00:00:00.000000\",\"2018-02-12 00:00:00.000000\",\"2018-02-13 00:00:00.000000\",\"2018-02-14 00:00:00.000000\",\"2018-02-15 00:00:00.000000\",\"2018-02-16 00:00:00.000000\",\"2018-02-20 00:00:00.000000\",\"2018-02-21 00:00:00.000000\",\"2018-02-22 00:00:00.000000\",\"2018-02-23 00:00:00.000000\",\"2018-02-26 00:00:00.000000\",\"2018-02-27 00:00:00.000000\",\"2018-02-28 00:00:00.000000\",\"2018-03-01 00:00:00.000000\",\"2018-03-02 00:00:00.000000\",\"2018-03-05 00:00:00.000000\",\"2018-03-06 00:00:00.000000\",\"2018-03-07 00:00:00.000000\",\"2018-03-08 00:00:00.000000\",\"2018-03-09 00:00:00.000000\",\"2018-03-12 00:00:00.000000\",\"2018-03-13 00:00:00.000000\",\"2018-03-14 00:00:00.000000\",\"2018-03-15 00:00:00.000000\",\"2018-03-16 00:00:00.000000\",\"2018-03-19 00:00:00.000000\",\"2018-03-20 00:00:00.000000\",\"2018-03-21 00:00:00.000000\",\"2018-03-22 00:00:00.000000\",\"2018-03-23 00:00:00.000000\",\"2018-03-26 00:00:00.000000\",\"2018-03-27 00:00:00.000000\",\"2018-03-28 00:00:00.000000\",\"2018-03-29 00:00:00.000000\",\"2018-04-02 00:00:00.000000\",\"2018-04-03 00:00:00.000000\",\"2018-04-04 00:00:00.000000\",\"2018-04-05 00:00:00.000000\",\"2018-04-06 00:00:00.000000\",\"2018-04-09 00:00:00.000000\",\"2018-04-10 00:00:00.000000\",\"2018-04-11 00:00:00.000000\",\"2018-04-12 00:00:00.000000\",\"2018-04-13 00:00:00.000000\",\"2018-04-16 00:00:00.000000\",\"2018-04-17 00:00:00.000000\",\"2018-04-18 00:00:00.000000\",\"2018-04-19 00:00:00.000000\",\"2018-04-20 00:00:00.000000\",\"2018-04-23 00:00:00.000000\",\"2018-04-24 00:00:00.000000\",\"2018-04-25 00:00:00.000000\",\"2018-04-26 00:00:00.000000\",\"2018-04-27 00:00:00.000000\",\"2018-04-30 00:00:00.000000\",\"2018-05-01 00:00:00.000000\",\"2018-05-02 00:00:00.000000\",\"2018-05-03 00:00:00.000000\",\"2018-05-04 00:00:00.000000\",\"2018-05-07 00:00:00.000000\",\"2018-05-08 00:00:00.000000\",\"2018-05-09 00:00:00.000000\",\"2018-05-10 00:00:00.000000\",\"2018-05-11 00:00:00.000000\",\"2018-05-14 00:00:00.000000\",\"2018-05-15 00:00:00.000000\",\"2018-05-16 00:00:00.000000\",\"2018-05-17 00:00:00.000000\",\"2018-05-18 00:00:00.000000\",\"2018-05-21 00:00:00.000000\",\"2018-05-22 00:00:00.000000\",\"2018-05-23 00:00:00.000000\",\"2018-05-24 00:00:00.000000\",\"2018-05-25 00:00:00.000000\",\"2018-05-29 00:00:00.000000\",\"2018-05-30 00:00:00.000000\",\"2018-05-31 00:00:00.000000\",\"2018-06-01 00:00:00.000000\",\"2018-06-04 00:00:00.000000\",\"2018-06-05 00:00:00.000000\",\"2018-06-06 00:00:00.000000\",\"2018-06-07 00:00:00.000000\",\"2018-06-08 00:00:00.000000\",\"2018-06-11 00:00:00.000000\",\"2018-06-12 00:00:00.000000\",\"2018-06-13 00:00:00.000000\",\"2018-06-14 00:00:00.000000\",\"2018-06-15 00:00:00.000000\",\"2018-06-18 00:00:00.000000\",\"2018-06-19 00:00:00.000000\",\"2018-06-20 00:00:00.000000\",\"2018-06-21 00:00:00.000000\",\"2018-06-22 00:00:00.000000\",\"2018-06-25 00:00:00.000000\",\"2018-06-26 00:00:00.000000\",\"2018-06-27 00:00:00.000000\",\"2018-06-28 00:00:00.000000\",\"2018-06-29 00:00:00.000000\",\"2018-07-02 00:00:00.000000\",\"2018-07-03 00:00:00.000000\",\"2018-07-05 00:00:00.000000\",\"2018-07-06 00:00:00.000000\",\"2018-07-09 00:00:00.000000\",\"2018-07-10 00:00:00.000000\",\"2018-07-11 00:00:00.000000\",\"2018-07-12 00:00:00.000000\",\"2018-07-13 00:00:00.000000\",\"2018-07-16 00:00:00.000000\",\"2018-07-17 00:00:00.000000\",\"2018-07-18 00:00:00.000000\",\"2018-07-19 00:00:00.000000\",\"2018-07-20 00:00:00.000000\",\"2018-07-23 00:00:00.000000\",\"2018-07-24 00:00:00.000000\",\"2018-07-25 00:00:00.000000\",\"2018-07-26 00:00:00.000000\",\"2018-07-27 00:00:00.000000\",\"2018-07-30 00:00:00.000000\",\"2018-07-31 00:00:00.000000\",\"2018-08-01 00:00:00.000000\",\"2018-08-02 00:00:00.000000\",\"2018-08-03 00:00:00.000000\",\"2018-08-06 00:00:00.000000\",\"2018-08-07 00:00:00.000000\",\"2018-08-08 00:00:00.000000\",\"2018-08-09 00:00:00.000000\",\"2018-08-10 00:00:00.000000\",\"2018-08-13 00:00:00.000000\",\"2018-08-14 00:00:00.000000\",\"2018-08-15 00:00:00.000000\",\"2018-08-16 00:00:00.000000\",\"2018-08-17 00:00:00.000000\",\"2018-08-20 00:00:00.000000\",\"2018-08-21 00:00:00.000000\",\"2018-08-22 00:00:00.000000\",\"2018-08-23 00:00:00.000000\",\"2018-08-24 00:00:00.000000\",\"2018-08-27 00:00:00.000000\",\"2018-08-28 00:00:00.000000\",\"2018-08-29 00:00:00.000000\",\"2018-08-30 00:00:00.000000\",\"2018-08-31 00:00:00.000000\",\"2018-09-04 00:00:00.000000\",\"2018-09-05 00:00:00.000000\",\"2018-09-06 00:00:00.000000\",\"2018-09-07 00:00:00.000000\",\"2018-09-10 00:00:00.000000\",\"2018-09-11 00:00:00.000000\",\"2018-09-12 00:00:00.000000\",\"2018-09-13 00:00:00.000000\",\"2018-09-14 00:00:00.000000\",\"2018-09-17 00:00:00.000000\",\"2018-09-18 00:00:00.000000\",\"2018-09-19 00:00:00.000000\",\"2018-09-20 00:00:00.000000\",\"2018-09-21 00:00:00.000000\",\"2018-09-24 00:00:00.000000\",\"2018-09-25 00:00:00.000000\",\"2018-09-26 00:00:00.000000\",\"2018-09-27 00:00:00.000000\",\"2018-09-28 00:00:00.000000\",\"2018-10-01 00:00:00.000000\",\"2018-10-02 00:00:00.000000\",\"2018-10-03 00:00:00.000000\",\"2018-10-04 00:00:00.000000\",\"2018-10-05 00:00:00.000000\",\"2018-10-08 00:00:00.000000\",\"2018-10-09 00:00:00.000000\",\"2018-10-10 00:00:00.000000\",\"2018-10-11 00:00:00.000000\",\"2018-10-12 00:00:00.000000\",\"2018-10-15 00:00:00.000000\",\"2018-10-16 00:00:00.000000\",\"2018-10-17 00:00:00.000000\",\"2018-10-18 00:00:00.000000\",\"2018-10-19 00:00:00.000000\",\"2018-10-22 00:00:00.000000\",\"2018-10-23 00:00:00.000000\",\"2018-10-24 00:00:00.000000\",\"2018-10-25 00:00:00.000000\",\"2018-10-26 00:00:00.000000\",\"2018-10-29 00:00:00.000000\",\"2018-10-30 00:00:00.000000\",\"2018-10-31 00:00:00.000000\",\"2018-11-01 00:00:00.000000\",\"2018-11-02 00:00:00.000000\",\"2018-11-05 00:00:00.000000\",\"2018-11-06 00:00:00.000000\",\"2018-11-07 00:00:00.000000\",\"2018-11-08 00:00:00.000000\",\"2018-11-09 00:00:00.000000\",\"2018-11-12 00:00:00.000000\",\"2018-11-13 00:00:00.000000\",\"2018-11-14 00:00:00.000000\",\"2018-11-15 00:00:00.000000\",\"2018-11-16 00:00:00.000000\",\"2018-11-19 00:00:00.000000\",\"2018-11-20 00:00:00.000000\",\"2018-11-21 00:00:00.000000\",\"2018-11-23 00:00:00.000000\",\"2018-11-26 00:00:00.000000\",\"2018-11-27 00:00:00.000000\",\"2018-11-28 00:00:00.000000\",\"2018-11-29 00:00:00.000000\",\"2018-11-30 00:00:00.000000\",\"2018-12-03 00:00:00.000000\",\"2018-12-04 00:00:00.000000\",\"2018-12-06 00:00:00.000000\",\"2018-12-07 00:00:00.000000\",\"2018-12-10 00:00:00.000000\",\"2018-12-11 00:00:00.000000\",\"2018-12-12 00:00:00.000000\",\"2018-12-13 00:00:00.000000\",\"2018-12-14 00:00:00.000000\",\"2018-12-17 00:00:00.000000\",\"2018-12-18 00:00:00.000000\",\"2018-12-19 00:00:00.000000\",\"2018-12-20 00:00:00.000000\",\"2018-12-21 00:00:00.000000\",\"2018-12-24 00:00:00.000000\",\"2018-12-26 00:00:00.000000\",\"2018-12-27 00:00:00.000000\",\"2018-12-28 00:00:00.000000\",\"2018-12-31 00:00:00.000000\",\"2019-01-02 00:00:00.000000\",\"2019-01-03 00:00:00.000000\",\"2019-01-04 00:00:00.000000\",\"2019-01-07 00:00:00.000000\",\"2019-01-08 00:00:00.000000\",\"2019-01-09 00:00:00.000000\",\"2019-01-10 00:00:00.000000\",\"2019-01-11 00:00:00.000000\",\"2019-01-14 00:00:00.000000\",\"2019-01-15 00:00:00.000000\",\"2019-01-16 00:00:00.000000\",\"2019-01-17 00:00:00.000000\",\"2019-01-18 00:00:00.000000\",\"2019-01-22 00:00:00.000000\",\"2019-01-23 00:00:00.000000\",\"2019-01-24 00:00:00.000000\",\"2019-01-25 00:00:00.000000\",\"2019-01-28 00:00:00.000000\",\"2019-01-29 00:00:00.000000\",\"2019-01-30 00:00:00.000000\",\"2019-01-31 00:00:00.000000\",\"2019-02-01 00:00:00.000000\",\"2019-02-04 00:00:00.000000\",\"2019-02-05 00:00:00.000000\",\"2019-02-06 00:00:00.000000\",\"2019-02-07 00:00:00.000000\",\"2019-02-08 00:00:00.000000\",\"2019-02-11 00:00:00.000000\",\"2019-02-12 00:00:00.000000\",\"2019-02-13 00:00:00.000000\",\"2019-02-14 00:00:00.000000\",\"2019-02-15 00:00:00.000000\",\"2019-02-19 00:00:00.000000\",\"2019-02-20 00:00:00.000000\",\"2019-02-21 00:00:00.000000\",\"2019-02-22 00:00:00.000000\",\"2019-02-25 00:00:00.000000\",\"2019-02-26 00:00:00.000000\",\"2019-02-27 00:00:00.000000\",\"2019-02-28 00:00:00.000000\",\"2019-03-01 00:00:00.000000\",\"2019-03-04 00:00:00.000000\",\"2019-03-05 00:00:00.000000\",\"2019-03-06 00:00:00.000000\",\"2019-03-07 00:00:00.000000\",\"2019-03-08 00:00:00.000000\",\"2019-03-11 00:00:00.000000\",\"2019-03-12 00:00:00.000000\",\"2019-03-13 00:00:00.000000\",\"2019-03-14 00:00:00.000000\",\"2019-03-15 00:00:00.000000\",\"2019-03-18 00:00:00.000000\",\"2019-03-19 00:00:00.000000\",\"2019-03-20 00:00:00.000000\",\"2019-03-21 00:00:00.000000\",\"2019-03-22 00:00:00.000000\",\"2019-03-25 00:00:00.000000\",\"2019-03-26 00:00:00.000000\",\"2019-03-27 00:00:00.000000\",\"2019-03-28 00:00:00.000000\",\"2019-03-29 00:00:00.000000\",\"2019-04-01 00:00:00.000000\",\"2019-04-02 00:00:00.000000\",\"2019-04-03 00:00:00.000000\",\"2019-04-04 00:00:00.000000\",\"2019-04-05 00:00:00.000000\",\"2019-04-08 00:00:00.000000\",\"2019-04-09 00:00:00.000000\",\"2019-04-10 00:00:00.000000\",\"2019-04-11 00:00:00.000000\",\"2019-04-12 00:00:00.000000\",\"2019-04-15 00:00:00.000000\",\"2019-04-16 00:00:00.000000\",\"2019-04-17 00:00:00.000000\",\"2019-04-18 00:00:00.000000\",\"2019-04-22 00:00:00.000000\",\"2019-04-23 00:00:00.000000\",\"2019-04-24 00:00:00.000000\",\"2019-04-25 00:00:00.000000\",\"2019-04-26 00:00:00.000000\",\"2019-04-29 00:00:00.000000\",\"2019-04-30 00:00:00.000000\",\"2019-05-01 00:00:00.000000\",\"2019-05-02 00:00:00.000000\",\"2019-05-03 00:00:00.000000\",\"2019-05-06 00:00:00.000000\",\"2019-05-07 00:00:00.000000\",\"2019-05-08 00:00:00.000000\",\"2019-05-09 00:00:00.000000\",\"2019-05-10 00:00:00.000000\",\"2019-05-13 00:00:00.000000\",\"2019-05-14 00:00:00.000000\",\"2019-05-15 00:00:00.000000\",\"2019-05-16 00:00:00.000000\",\"2019-05-17 00:00:00.000000\",\"2019-05-20 00:00:00.000000\",\"2019-05-21 00:00:00.000000\",\"2019-05-22 00:00:00.000000\",\"2019-05-23 00:00:00.000000\",\"2019-05-24 00:00:00.000000\",\"2019-05-28 00:00:00.000000\",\"2019-05-29 00:00:00.000000\",\"2019-05-30 00:00:00.000000\",\"2019-05-31 00:00:00.000000\",\"2019-06-03 00:00:00.000000\",\"2019-06-04 00:00:00.000000\",\"2019-06-05 00:00:00.000000\",\"2019-06-06 00:00:00.000000\",\"2019-06-07 00:00:00.000000\",\"2019-06-10 00:00:00.000000\",\"2019-06-11 00:00:00.000000\",\"2019-06-12 00:00:00.000000\",\"2019-06-13 00:00:00.000000\",\"2019-06-14 00:00:00.000000\",\"2019-06-17 00:00:00.000000\",\"2019-06-18 00:00:00.000000\",\"2019-06-19 00:00:00.000000\",\"2019-06-20 00:00:00.000000\",\"2019-06-21 00:00:00.000000\",\"2019-06-24 00:00:00.000000\",\"2019-06-25 00:00:00.000000\",\"2019-06-26 00:00:00.000000\",\"2019-06-27 00:00:00.000000\",\"2019-06-28 00:00:00.000000\",\"2019-07-01 00:00:00.000000\",\"2019-07-02 00:00:00.000000\",\"2019-07-03 00:00:00.000000\",\"2019-07-05 00:00:00.000000\",\"2019-07-08 00:00:00.000000\",\"2019-07-09 00:00:00.000000\",\"2019-07-10 00:00:00.000000\",\"2019-07-11 00:00:00.000000\",\"2019-07-12 00:00:00.000000\",\"2019-07-15 00:00:00.000000\",\"2019-07-16 00:00:00.000000\",\"2019-07-17 00:00:00.000000\",\"2019-07-18 00:00:00.000000\",\"2019-07-19 00:00:00.000000\",\"2019-07-22 00:00:00.000000\",\"2019-07-23 00:00:00.000000\",\"2019-07-24 00:00:00.000000\",\"2019-07-25 00:00:00.000000\",\"2019-07-26 00:00:00.000000\",\"2019-07-29 00:00:00.000000\",\"2019-07-30 00:00:00.000000\",\"2019-07-31 00:00:00.000000\",\"2019-08-01 00:00:00.000000\",\"2019-08-02 00:00:00.000000\",\"2019-08-05 00:00:00.000000\",\"2019-08-06 00:00:00.000000\",\"2019-08-07 00:00:00.000000\",\"2019-08-08 00:00:00.000000\",\"2019-08-09 00:00:00.000000\",\"2019-08-12 00:00:00.000000\",\"2019-08-13 00:00:00.000000\",\"2019-08-14 00:00:00.000000\",\"2019-08-15 00:00:00.000000\",\"2019-08-16 00:00:00.000000\",\"2019-08-19 00:00:00.000000\",\"2019-08-20 00:00:00.000000\",\"2019-08-21 00:00:00.000000\",\"2019-08-22 00:00:00.000000\",\"2019-08-23 00:00:00.000000\",\"2019-08-26 00:00:00.000000\",\"2019-08-27 00:00:00.000000\",\"2019-08-28 00:00:00.000000\",\"2019-08-29 00:00:00.000000\",\"2019-08-30 00:00:00.000000\",\"2019-09-03 00:00:00.000000\",\"2019-09-04 00:00:00.000000\",\"2019-09-05 00:00:00.000000\",\"2019-09-06 00:00:00.000000\",\"2019-09-09 00:00:00.000000\",\"2019-09-10 00:00:00.000000\",\"2019-09-11 00:00:00.000000\",\"2019-09-12 00:00:00.000000\",\"2019-09-13 00:00:00.000000\",\"2019-09-16 00:00:00.000000\",\"2019-09-17 00:00:00.000000\",\"2019-09-18 00:00:00.000000\",\"2019-09-19 00:00:00.000000\",\"2019-09-20 00:00:00.000000\",\"2019-09-23 00:00:00.000000\",\"2019-09-24 00:00:00.000000\",\"2019-09-25 00:00:00.000000\",\"2019-09-26 00:00:00.000000\",\"2019-09-27 00:00:00.000000\",\"2019-09-30 00:00:00.000000\",\"2019-10-01 00:00:00.000000\",\"2019-10-02 00:00:00.000000\",\"2019-10-03 00:00:00.000000\",\"2019-10-04 00:00:00.000000\",\"2019-10-07 00:00:00.000000\",\"2019-10-08 00:00:00.000000\",\"2019-10-09 00:00:00.000000\",\"2019-10-10 00:00:00.000000\",\"2019-10-11 00:00:00.000000\",\"2019-10-14 00:00:00.000000\",\"2019-10-15 00:00:00.000000\",\"2019-10-16 00:00:00.000000\",\"2019-10-17 00:00:00.000000\",\"2019-10-18 00:00:00.000000\",\"2019-10-21 00:00:00.000000\",\"2019-10-22 00:00:00.000000\",\"2019-10-23 00:00:00.000000\",\"2019-10-24 00:00:00.000000\",\"2019-10-25 00:00:00.000000\",\"2019-10-28 00:00:00.000000\",\"2019-10-29 00:00:00.000000\",\"2019-10-30 00:00:00.000000\",\"2019-10-31 00:00:00.000000\",\"2019-11-01 00:00:00.000000\",\"2019-11-04 00:00:00.000000\",\"2019-11-05 00:00:00.000000\",\"2019-11-06 00:00:00.000000\",\"2019-11-07 00:00:00.000000\",\"2019-11-08 00:00:00.000000\",\"2019-11-11 00:00:00.000000\",\"2019-11-12 00:00:00.000000\",\"2019-11-13 00:00:00.000000\",\"2019-11-14 00:00:00.000000\",\"2019-11-15 00:00:00.000000\",\"2019-11-18 00:00:00.000000\",\"2019-11-19 00:00:00.000000\",\"2019-11-20 00:00:00.000000\",\"2019-11-21 00:00:00.000000\",\"2019-11-22 00:00:00.000000\",\"2019-11-25 00:00:00.000000\",\"2019-11-26 00:00:00.000000\",\"2019-11-27 00:00:00.000000\",\"2019-11-29 00:00:00.000000\",\"2019-12-02 00:00:00.000000\",\"2019-12-03 00:00:00.000000\",\"2019-12-04 00:00:00.000000\",\"2019-12-05 00:00:00.000000\",\"2019-12-06 00:00:00.000000\",\"2019-12-09 00:00:00.000000\",\"2019-12-10 00:00:00.000000\",\"2019-12-11 00:00:00.000000\",\"2019-12-12 00:00:00.000000\",\"2019-12-13 00:00:00.000000\",\"2019-12-16 00:00:00.000000\",\"2019-12-17 00:00:00.000000\",\"2019-12-18 00:00:00.000000\",\"2019-12-19 00:00:00.000000\",\"2019-12-20 00:00:00.000000\",\"2019-12-23 00:00:00.000000\",\"2019-12-24 00:00:00.000000\",\"2019-12-26 00:00:00.000000\",\"2019-12-27 00:00:00.000000\",\"2019-12-30 00:00:00.000000\",\"2019-12-31 00:00:00.000000\",\"2020-01-02 00:00:00.000000\",\"2020-01-03 00:00:00.000000\",\"2020-01-06 00:00:00.000000\",\"2020-01-07 00:00:00.000000\",\"2020-01-08 00:00:00.000000\",\"2020-01-09 00:00:00.000000\",\"2020-01-10 00:00:00.000000\",\"2020-01-13 00:00:00.000000\",\"2020-01-14 00:00:00.000000\",\"2020-01-15 00:00:00.000000\",\"2020-01-16 00:00:00.000000\",\"2020-01-17 00:00:00.000000\",\"2020-01-21 00:00:00.000000\",\"2020-01-22 00:00:00.000000\",\"2020-01-23 00:00:00.000000\",\"2020-01-24 00:00:00.000000\",\"2020-01-27 00:00:00.000000\",\"2020-01-28 00:00:00.000000\",\"2020-01-29 00:00:00.000000\",\"2020-01-30 00:00:00.000000\",\"2020-01-31 00:00:00.000000\",\"2020-02-03 00:00:00.000000\",\"2020-02-04 00:00:00.000000\",\"2020-02-05 00:00:00.000000\",\"2020-02-06 00:00:00.000000\",\"2020-02-07 00:00:00.000000\",\"2020-02-10 00:00:00.000000\",\"2020-02-11 00:00:00.000000\",\"2020-02-12 00:00:00.000000\",\"2020-02-13 00:00:00.000000\",\"2020-02-14 00:00:00.000000\",\"2020-02-18 00:00:00.000000\",\"2020-02-19 00:00:00.000000\",\"2020-02-20 00:00:00.000000\",\"2020-02-21 00:00:00.000000\",\"2020-02-24 00:00:00.000000\",\"2020-02-25 00:00:00.000000\",\"2020-02-26 00:00:00.000000\",\"2020-02-27 00:00:00.000000\",\"2020-02-28 00:00:00.000000\",\"2020-03-02 00:00:00.000000\",\"2020-03-03 00:00:00.000000\",\"2020-03-04 00:00:00.000000\",\"2020-03-05 00:00:00.000000\",\"2020-03-06 00:00:00.000000\",\"2020-03-09 00:00:00.000000\",\"2020-03-10 00:00:00.000000\",\"2020-03-11 00:00:00.000000\",\"2020-03-12 00:00:00.000000\",\"2020-03-13 00:00:00.000000\",\"2020-03-16 00:00:00.000000\",\"2020-03-17 00:00:00.000000\",\"2020-03-18 00:00:00.000000\",\"2020-03-19 00:00:00.000000\",\"2020-03-20 00:00:00.000000\",\"2020-03-23 00:00:00.000000\",\"2020-03-24 00:00:00.000000\",\"2020-03-25 00:00:00.000000\",\"2020-03-26 00:00:00.000000\",\"2020-03-27 00:00:00.000000\",\"2020-03-30 00:00:00.000000\",\"2020-03-31 00:00:00.000000\",\"2020-04-01 00:00:00.000000\",\"2020-04-02 00:00:00.000000\",\"2020-04-03 00:00:00.000000\",\"2020-04-06 00:00:00.000000\",\"2020-04-07 00:00:00.000000\",\"2020-04-08 00:00:00.000000\",\"2020-04-09 00:00:00.000000\",\"2020-04-13 00:00:00.000000\",\"2020-04-14 00:00:00.000000\",\"2020-04-15 00:00:00.000000\",\"2020-04-16 00:00:00.000000\",\"2020-04-17 00:00:00.000000\",\"2020-04-20 00:00:00.000000\",\"2020-04-21 00:00:00.000000\",\"2020-04-22 00:00:00.000000\",\"2020-04-23 00:00:00.000000\",\"2020-04-24 00:00:00.000000\",\"2020-04-27 00:00:00.000000\",\"2020-04-28 00:00:00.000000\",\"2020-04-29 00:00:00.000000\",\"2020-04-30 00:00:00.000000\",\"2020-05-01 00:00:00.000000\",\"2020-05-04 00:00:00.000000\",\"2020-05-05 00:00:00.000000\",\"2020-05-06 00:00:00.000000\",\"2020-05-07 00:00:00.000000\",\"2020-05-08 00:00:00.000000\",\"2020-05-11 00:00:00.000000\",\"2020-05-12 00:00:00.000000\",\"2020-05-13 00:00:00.000000\",\"2020-05-14 00:00:00.000000\",\"2020-05-15 00:00:00.000000\",\"2020-05-18 00:00:00.000000\",\"2020-05-19 00:00:00.000000\",\"2020-05-20 00:00:00.000000\",\"2020-05-21 00:00:00.000000\",\"2020-05-22 00:00:00.000000\",\"2020-05-26 00:00:00.000000\",\"2020-05-27 00:00:00.000000\",\"2020-05-28 00:00:00.000000\",\"2020-05-29 00:00:00.000000\",\"2020-06-01 00:00:00.000000\",\"2020-06-02 00:00:00.000000\",\"2020-06-03 00:00:00.000000\",\"2020-06-04 00:00:00.000000\",\"2020-06-05 00:00:00.000000\",\"2020-06-08 00:00:00.000000\",\"2020-06-09 00:00:00.000000\",\"2020-06-10 00:00:00.000000\",\"2020-06-11 00:00:00.000000\",\"2020-06-12 00:00:00.000000\",\"2020-06-15 00:00:00.000000\",\"2020-06-16 00:00:00.000000\",\"2020-06-17 00:00:00.000000\",\"2020-06-18 00:00:00.000000\",\"2020-06-19 00:00:00.000000\",\"2020-06-22 00:00:00.000000\",\"2020-06-23 00:00:00.000000\",\"2020-06-24 00:00:00.000000\",\"2020-06-25 00:00:00.000000\",\"2020-06-26 00:00:00.000000\",\"2020-06-29 00:00:00.000000\",\"2020-06-30 00:00:00.000000\",\"2020-07-01 00:00:00.000000\",\"2020-07-02 00:00:00.000000\",\"2020-07-06 00:00:00.000000\",\"2020-07-07 00:00:00.000000\",\"2020-07-08 00:00:00.000000\",\"2020-07-09 00:00:00.000000\",\"2020-07-10 00:00:00.000000\",\"2020-07-13 00:00:00.000000\",\"2020-07-14 00:00:00.000000\",\"2020-07-15 00:00:00.000000\",\"2020-07-16 00:00:00.000000\",\"2020-07-17 00:00:00.000000\",\"2020-07-20 00:00:00.000000\",\"2020-07-21 00:00:00.000000\",\"2020-07-22 00:00:00.000000\",\"2020-07-23 00:00:00.000000\",\"2020-07-24 00:00:00.000000\",\"2020-07-27 00:00:00.000000\",\"2020-07-28 00:00:00.000000\",\"2020-07-29 00:00:00.000000\",\"2020-07-30 00:00:00.000000\",\"2020-07-31 00:00:00.000000\",\"2020-08-03 00:00:00.000000\",\"2020-08-04 00:00:00.000000\",\"2020-08-05 00:00:00.000000\",\"2020-08-06 00:00:00.000000\",\"2020-08-07 00:00:00.000000\",\"2020-08-10 00:00:00.000000\",\"2020-08-11 00:00:00.000000\",\"2020-08-12 00:00:00.000000\",\"2020-08-13 00:00:00.000000\",\"2020-08-14 00:00:00.000000\",\"2020-08-17 00:00:00.000000\",\"2020-08-18 00:00:00.000000\",\"2020-08-19 00:00:00.000000\",\"2020-08-20 00:00:00.000000\",\"2020-08-21 00:00:00.000000\",\"2020-08-24 00:00:00.000000\",\"2020-08-25 00:00:00.000000\",\"2020-08-26 00:00:00.000000\",\"2020-08-27 00:00:00.000000\",\"2020-08-28 00:00:00.000000\",\"2020-08-31 00:00:00.000000\",\"2020-09-01 00:00:00.000000\",\"2020-09-02 00:00:00.000000\",\"2020-09-03 00:00:00.000000\",\"2020-09-04 00:00:00.000000\",\"2020-09-08 00:00:00.000000\",\"2020-09-09 00:00:00.000000\",\"2020-09-10 00:00:00.000000\",\"2020-09-11 00:00:00.000000\",\"2020-09-14 00:00:00.000000\",\"2020-09-15 00:00:00.000000\",\"2020-09-16 00:00:00.000000\",\"2020-09-17 00:00:00.000000\",\"2020-09-18 00:00:00.000000\",\"2020-09-21 00:00:00.000000\",\"2020-09-22 00:00:00.000000\",\"2020-09-23 00:00:00.000000\",\"2020-09-24 00:00:00.000000\",\"2020-09-25 00:00:00.000000\",\"2020-09-28 00:00:00.000000\",\"2020-09-29 00:00:00.000000\",\"2020-09-30 00:00:00.000000\",\"2020-10-01 00:00:00.000000\",\"2020-10-02 00:00:00.000000\",\"2020-10-05 00:00:00.000000\",\"2020-10-06 00:00:00.000000\",\"2020-10-07 00:00:00.000000\",\"2020-10-08 00:00:00.000000\",\"2020-10-09 00:00:00.000000\",\"2020-10-12 00:00:00.000000\",\"2020-10-13 00:00:00.000000\",\"2020-10-14 00:00:00.000000\",\"2020-10-15 00:00:00.000000\",\"2020-10-16 00:00:00.000000\",\"2020-10-19 00:00:00.000000\",\"2020-10-20 00:00:00.000000\",\"2020-10-21 00:00:00.000000\",\"2020-10-22 00:00:00.000000\",\"2020-10-23 00:00:00.000000\",\"2020-10-26 00:00:00.000000\",\"2020-10-27 00:00:00.000000\",\"2020-10-28 00:00:00.000000\",\"2020-10-29 00:00:00.000000\",\"2020-10-30 00:00:00.000000\",\"2020-11-02 00:00:00.000000\",\"2020-11-03 00:00:00.000000\",\"2020-11-04 00:00:00.000000\",\"2020-11-05 00:00:00.000000\",\"2020-11-06 00:00:00.000000\",\"2020-11-09 00:00:00.000000\",\"2020-11-10 00:00:00.000000\",\"2020-11-11 00:00:00.000000\",\"2020-11-12 00:00:00.000000\",\"2020-11-13 00:00:00.000000\",\"2020-11-16 00:00:00.000000\",\"2020-11-17 00:00:00.000000\",\"2020-11-18 00:00:00.000000\",\"2020-11-19 00:00:00.000000\",\"2020-11-20 00:00:00.000000\",\"2020-11-23 00:00:00.000000\",\"2020-11-24 00:00:00.000000\",\"2020-11-25 00:00:00.000000\",\"2020-11-27 00:00:00.000000\",\"2020-11-30 00:00:00.000000\",\"2020-12-01 00:00:00.000000\",\"2020-12-02 00:00:00.000000\",\"2020-12-03 00:00:00.000000\",\"2020-12-04 00:00:00.000000\"]},\"selected\":{\"id\":\"1244\"},\"selection_policy\":{\"id\":\"1261\"}},\"id\":\"1243\",\"type\":\"ColumnDataSource\"},{\"attributes\":{},\"id\":\"1219\",\"type\":\"CategoricalScale\"},{\"attributes\":{},\"id\":\"1230\",\"type\":\"SaveTool\"},{\"attributes\":{\"active_drag\":\"auto\",\"active_inspect\":\"auto\",\"active_multi\":null,\"active_scroll\":\"auto\",\"active_tap\":\"auto\",\"tools\":[{\"id\":\"1213\"},{\"id\":\"1230\"},{\"id\":\"1231\"},{\"id\":\"1232\"},{\"id\":\"1233\"},{\"id\":\"1234\"}]},\"id\":\"1236\",\"type\":\"Toolbar\"},{\"attributes\":{},\"id\":\"1231\",\"type\":\"PanTool\"},{\"attributes\":{},\"id\":\"1232\",\"type\":\"WheelZoomTool\"},{\"attributes\":{},\"id\":\"1221\",\"type\":\"LinearScale\"},{\"attributes\":{},\"id\":\"1244\",\"type\":\"Selection\"},{\"attributes\":{\"overlay\":{\"id\":\"1235\"}},\"id\":\"1233\",\"type\":\"BoxZoomTool\"},{\"attributes\":{\"axis_label\":\"Time\",\"bounds\":\"auto\",\"formatter\":{\"id\":\"1252\"},\"major_label_orientation\":\"horizontal\",\"ticker\":{\"id\":\"1224\"}},\"id\":\"1223\",\"type\":\"CategoricalAxis\"},{\"attributes\":{\"line_color\":\"#1f77b3\",\"line_width\":2,\"x\":{\"field\":\"time\"},\"y\":{\"field\":\"daily_returns\"}},\"id\":\"1246\",\"type\":\"Line\"},{\"attributes\":{\"below\":[{\"id\":\"1223\"}],\"center\":[{\"id\":\"1225\"},{\"id\":\"1229\"}],\"left\":[{\"id\":\"1226\"}],\"margin\":[5,5,5,5],\"min_border_bottom\":10,\"min_border_left\":10,\"min_border_right\":10,\"min_border_top\":10,\"plot_height\":300,\"plot_width\":700,\"renderers\":[{\"id\":\"1249\"}],\"sizing_mode\":\"fixed\",\"title\":{\"id\":\"1215\"},\"toolbar\":{\"id\":\"1236\"},\"x_range\":{\"id\":\"1211\"},\"x_scale\":{\"id\":\"1219\"},\"y_range\":{\"id\":\"1212\"},\"y_scale\":{\"id\":\"1221\"}},\"id\":\"1214\",\"subtype\":\"Figure\",\"type\":\"Plot\"},{\"attributes\":{},\"id\":\"1234\",\"type\":\"ResetTool\"},{\"attributes\":{\"data_source\":{\"id\":\"1243\"},\"glyph\":{\"id\":\"1246\"},\"hover_glyph\":null,\"muted_glyph\":{\"id\":\"1248\"},\"nonselection_glyph\":{\"id\":\"1247\"},\"selection_glyph\":null,\"view\":{\"id\":\"1250\"}},\"id\":\"1249\",\"type\":\"GlyphRenderer\"},{\"attributes\":{\"margin\":[5,5,5,5],\"name\":\"HSpacer02155\",\"sizing_mode\":\"stretch_width\"},\"id\":\"1210\",\"type\":\"Spacer\"},{\"attributes\":{\"children\":[{\"id\":\"1210\"},{\"id\":\"1214\"},{\"id\":\"1271\"}],\"margin\":[0,0,0,0],\"name\":\"Row02151\",\"tags\":[\"embedded\"]},\"id\":\"1209\",\"type\":\"Row\"},{\"attributes\":{\"text\":\"PYPL Cumulative Returns\",\"text_color\":{\"value\":\"black\"},\"text_font_size\":{\"value\":\"12pt\"}},\"id\":\"1215\",\"type\":\"Title\"},{\"attributes\":{\"end\":0.1715458661010297,\"reset_end\":0.1715458661010297,\"reset_start\":-0.19523816539422575,\"start\":-0.19523816539422575,\"tags\":[[[\"daily_returns\",\"daily_returns\",null]]]},\"id\":\"1212\",\"type\":\"Range1d\"},{\"attributes\":{},\"id\":\"1253\",\"type\":\"BasicTickFormatter\"},{\"attributes\":{},\"id\":\"1224\",\"type\":\"CategoricalTicker\"},{\"attributes\":{\"axis\":{\"id\":\"1223\"},\"grid_line_color\":null,\"ticker\":null},\"id\":\"1225\",\"type\":\"Grid\"},{\"attributes\":{\"margin\":[5,5,5,5],\"name\":\"HSpacer02156\",\"sizing_mode\":\"stretch_width\"},\"id\":\"1271\",\"type\":\"Spacer\"},{\"attributes\":{\"axis\":{\"id\":\"1226\"},\"dimension\":1,\"grid_line_color\":null,\"ticker\":null},\"id\":\"1229\",\"type\":\"Grid\"},{\"attributes\":{},\"id\":\"1227\",\"type\":\"BasicTicker\"},{\"attributes\":{},\"id\":\"1252\",\"type\":\"CategoricalTickFormatter\"},{\"attributes\":{\"axis_label\":\"Daily Returns\",\"bounds\":\"auto\",\"formatter\":{\"id\":\"1253\"},\"major_label_orientation\":\"horizontal\",\"ticker\":{\"id\":\"1227\"}},\"id\":\"1226\",\"type\":\"LinearAxis\"},{\"attributes\":{\"factors\":[\"2016-12-16 00:00:00.000000\",\"2016-12-19 00:00:00.000000\",\"2016-12-20 00:00:00.000000\",\"2016-12-21 00:00:00.000000\",\"2016-12-22 00:00:00.000000\",\"2016-12-23 00:00:00.000000\",\"2016-12-27 00:00:00.000000\",\"2016-12-28 00:00:00.000000\",\"2016-12-29 00:00:00.000000\",\"2016-12-30 00:00:00.000000\",\"2017-01-03 00:00:00.000000\",\"2017-01-04 00:00:00.000000\",\"2017-01-05 00:00:00.000000\",\"2017-01-06 00:00:00.000000\",\"2017-01-09 00:00:00.000000\",\"2017-01-10 00:00:00.000000\",\"2017-01-11 00:00:00.000000\",\"2017-01-12 00:00:00.000000\",\"2017-01-13 00:00:00.000000\",\"2017-01-17 00:00:00.000000\",\"2017-01-18 00:00:00.000000\",\"2017-01-19 00:00:00.000000\",\"2017-01-20 00:00:00.000000\",\"2017-01-23 00:00:00.000000\",\"2017-01-24 00:00:00.000000\",\"2017-01-25 00:00:00.000000\",\"2017-01-26 00:00:00.000000\",\"2017-01-27 00:00:00.000000\",\"2017-01-30 00:00:00.000000\",\"2017-01-31 00:00:00.000000\",\"2017-02-01 00:00:00.000000\",\"2017-02-02 00:00:00.000000\",\"2017-02-03 00:00:00.000000\",\"2017-02-06 00:00:00.000000\",\"2017-02-07 00:00:00.000000\",\"2017-02-08 00:00:00.000000\",\"2017-02-09 00:00:00.000000\",\"2017-02-10 00:00:00.000000\",\"2017-02-13 00:00:00.000000\",\"2017-02-14 00:00:00.000000\",\"2017-02-15 00:00:00.000000\",\"2017-02-16 00:00:00.000000\",\"2017-02-17 00:00:00.000000\",\"2017-02-21 00:00:00.000000\",\"2017-02-22 00:00:00.000000\",\"2017-02-23 00:00:00.000000\",\"2017-02-24 00:00:00.000000\",\"2017-02-27 00:00:00.000000\",\"2017-02-28 00:00:00.000000\",\"2017-03-01 00:00:00.000000\",\"2017-03-02 00:00:00.000000\",\"2017-03-03 00:00:00.000000\",\"2017-03-06 00:00:00.000000\",\"2017-03-07 00:00:00.000000\",\"2017-03-08 00:00:00.000000\",\"2017-03-09 00:00:00.000000\",\"2017-03-10 00:00:00.000000\",\"2017-03-13 00:00:00.000000\",\"2017-03-14 00:00:00.000000\",\"2017-03-15 00:00:00.000000\",\"2017-03-16 00:00:00.000000\",\"2017-03-17 00:00:00.000000\",\"2017-03-20 00:00:00.000000\",\"2017-03-21 00:00:00.000000\",\"2017-03-22 00:00:00.000000\",\"2017-03-23 00:00:00.000000\",\"2017-03-24 00:00:00.000000\",\"2017-03-27 00:00:00.000000\",\"2017-03-28 00:00:00.000000\",\"2017-03-29 00:00:00.000000\",\"2017-03-30 00:00:00.000000\",\"2017-03-31 00:00:00.000000\",\"2017-04-03 00:00:00.000000\",\"2017-04-04 00:00:00.000000\",\"2017-04-05 00:00:00.000000\",\"2017-04-06 00:00:00.000000\",\"2017-04-07 00:00:00.000000\",\"2017-04-10 00:00:00.000000\",\"2017-04-11 00:00:00.000000\",\"2017-04-12 00:00:00.000000\",\"2017-04-13 00:00:00.000000\",\"2017-04-17 00:00:00.000000\",\"2017-04-18 00:00:00.000000\",\"2017-04-19 00:00:00.000000\",\"2017-04-20 00:00:00.000000\",\"2017-04-21 00:00:00.000000\",\"2017-04-24 00:00:00.000000\",\"2017-04-25 00:00:00.000000\",\"2017-04-26 00:00:00.000000\",\"2017-04-27 00:00:00.000000\",\"2017-04-28 00:00:00.000000\",\"2017-05-01 00:00:00.000000\",\"2017-05-02 00:00:00.000000\",\"2017-05-03 00:00:00.000000\",\"2017-05-04 00:00:00.000000\",\"2017-05-05 00:00:00.000000\",\"2017-05-08 00:00:00.000000\",\"2017-05-09 00:00:00.000000\",\"2017-05-10 00:00:00.000000\",\"2017-05-11 00:00:00.000000\",\"2017-05-12 00:00:00.000000\",\"2017-05-15 00:00:00.000000\",\"2017-05-16 00:00:00.000000\",\"2017-05-17 00:00:00.000000\",\"2017-05-18 00:00:00.000000\",\"2017-05-19 00:00:00.000000\",\"2017-05-22 00:00:00.000000\",\"2017-05-23 00:00:00.000000\",\"2017-05-24 00:00:00.000000\",\"2017-05-25 00:00:00.000000\",\"2017-05-26 00:00:00.000000\",\"2017-05-30 00:00:00.000000\",\"2017-05-31 00:00:00.000000\",\"2017-06-01 00:00:00.000000\",\"2017-06-02 00:00:00.000000\",\"2017-06-05 00:00:00.000000\",\"2017-06-06 00:00:00.000000\",\"2017-06-07 00:00:00.000000\",\"2017-06-08 00:00:00.000000\",\"2017-06-09 00:00:00.000000\",\"2017-06-12 00:00:00.000000\",\"2017-06-13 00:00:00.000000\",\"2017-06-14 00:00:00.000000\",\"2017-06-15 00:00:00.000000\",\"2017-06-16 00:00:00.000000\",\"2017-06-19 00:00:00.000000\",\"2017-06-20 00:00:00.000000\",\"2017-06-21 00:00:00.000000\",\"2017-06-22 00:00:00.000000\",\"2017-06-23 00:00:00.000000\",\"2017-06-26 00:00:00.000000\",\"2017-06-27 00:00:00.000000\",\"2017-06-28 00:00:00.000000\",\"2017-06-29 00:00:00.000000\",\"2017-06-30 00:00:00.000000\",\"2017-07-03 00:00:00.000000\",\"2017-07-05 00:00:00.000000\",\"2017-07-06 00:00:00.000000\",\"2017-07-07 00:00:00.000000\",\"2017-07-10 00:00:00.000000\",\"2017-07-11 00:00:00.000000\",\"2017-07-12 00:00:00.000000\",\"2017-07-13 00:00:00.000000\",\"2017-07-14 00:00:00.000000\",\"2017-07-17 00:00:00.000000\",\"2017-07-18 00:00:00.000000\",\"2017-07-19 00:00:00.000000\",\"2017-07-20 00:00:00.000000\",\"2017-07-21 00:00:00.000000\",\"2017-07-24 00:00:00.000000\",\"2017-07-25 00:00:00.000000\",\"2017-07-26 00:00:00.000000\",\"2017-07-27 00:00:00.000000\",\"2017-07-28 00:00:00.000000\",\"2017-07-31 00:00:00.000000\",\"2017-08-01 00:00:00.000000\",\"2017-08-02 00:00:00.000000\",\"2017-08-03 00:00:00.000000\",\"2017-08-04 00:00:00.000000\",\"2017-08-07 00:00:00.000000\",\"2017-08-08 00:00:00.000000\",\"2017-08-09 00:00:00.000000\",\"2017-08-10 00:00:00.000000\",\"2017-08-11 00:00:00.000000\",\"2017-08-14 00:00:00.000000\",\"2017-08-15 00:00:00.000000\",\"2017-08-16 00:00:00.000000\",\"2017-08-17 00:00:00.000000\",\"2017-08-18 00:00:00.000000\",\"2017-08-21 00:00:00.000000\",\"2017-08-22 00:00:00.000000\",\"2017-08-23 00:00:00.000000\",\"2017-08-24 00:00:00.000000\",\"2017-08-25 00:00:00.000000\",\"2017-08-28 00:00:00.000000\",\"2017-08-29 00:00:00.000000\",\"2017-08-30 00:00:00.000000\",\"2017-08-31 00:00:00.000000\",\"2017-09-01 00:00:00.000000\",\"2017-09-05 00:00:00.000000\",\"2017-09-06 00:00:00.000000\",\"2017-09-07 00:00:00.000000\",\"2017-09-08 00:00:00.000000\",\"2017-09-11 00:00:00.000000\",\"2017-09-12 00:00:00.000000\",\"2017-09-13 00:00:00.000000\",\"2017-09-14 00:00:00.000000\",\"2017-09-15 00:00:00.000000\",\"2017-09-18 00:00:00.000000\",\"2017-09-19 00:00:00.000000\",\"2017-09-20 00:00:00.000000\",\"2017-09-21 00:00:00.000000\",\"2017-09-22 00:00:00.000000\",\"2017-09-25 00:00:00.000000\",\"2017-09-26 00:00:00.000000\",\"2017-09-27 00:00:00.000000\",\"2017-09-28 00:00:00.000000\",\"2017-09-29 00:00:00.000000\",\"2017-10-02 00:00:00.000000\",\"2017-10-03 00:00:00.000000\",\"2017-10-04 00:00:00.000000\",\"2017-10-05 00:00:00.000000\",\"2017-10-06 00:00:00.000000\",\"2017-10-09 00:00:00.000000\",\"2017-10-10 00:00:00.000000\",\"2017-10-11 00:00:00.000000\",\"2017-10-12 00:00:00.000000\",\"2017-10-13 00:00:00.000000\",\"2017-10-16 00:00:00.000000\",\"2017-10-17 00:00:00.000000\",\"2017-10-18 00:00:00.000000\",\"2017-10-19 00:00:00.000000\",\"2017-10-20 00:00:00.000000\",\"2017-10-23 00:00:00.000000\",\"2017-10-24 00:00:00.000000\",\"2017-10-25 00:00:00.000000\",\"2017-10-26 00:00:00.000000\",\"2017-10-27 00:00:00.000000\",\"2017-10-30 00:00:00.000000\",\"2017-10-31 00:00:00.000000\",\"2017-11-01 00:00:00.000000\",\"2017-11-02 00:00:00.000000\",\"2017-11-03 00:00:00.000000\",\"2017-11-06 00:00:00.000000\",\"2017-11-07 00:00:00.000000\",\"2017-11-08 00:00:00.000000\",\"2017-11-09 00:00:00.000000\",\"2017-11-10 00:00:00.000000\",\"2017-11-13 00:00:00.000000\",\"2017-11-14 00:00:00.000000\",\"2017-11-15 00:00:00.000000\",\"2017-11-16 00:00:00.000000\",\"2017-11-17 00:00:00.000000\",\"2017-11-20 00:00:00.000000\",\"2017-11-21 00:00:00.000000\",\"2017-11-22 00:00:00.000000\",\"2017-11-24 00:00:00.000000\",\"2017-11-27 00:00:00.000000\",\"2017-11-28 00:00:00.000000\",\"2017-11-29 00:00:00.000000\",\"2017-11-30 00:00:00.000000\",\"2017-12-01 00:00:00.000000\",\"2017-12-04 00:00:00.000000\",\"2017-12-05 00:00:00.000000\",\"2017-12-06 00:00:00.000000\",\"2017-12-07 00:00:00.000000\",\"2017-12-08 00:00:00.000000\",\"2017-12-11 00:00:00.000000\",\"2017-12-12 00:00:00.000000\",\"2017-12-13 00:00:00.000000\",\"2017-12-14 00:00:00.000000\",\"2017-12-15 00:00:00.000000\",\"2017-12-18 00:00:00.000000\",\"2017-12-19 00:00:00.000000\",\"2017-12-20 00:00:00.000000\",\"2017-12-21 00:00:00.000000\",\"2017-12-22 00:00:00.000000\",\"2017-12-26 00:00:00.000000\",\"2017-12-27 00:00:00.000000\",\"2017-12-28 00:00:00.000000\",\"2017-12-29 00:00:00.000000\",\"2018-01-02 00:00:00.000000\",\"2018-01-03 00:00:00.000000\",\"2018-01-04 00:00:00.000000\",\"2018-01-05 00:00:00.000000\",\"2018-01-08 00:00:00.000000\",\"2018-01-09 00:00:00.000000\",\"2018-01-10 00:00:00.000000\",\"2018-01-11 00:00:00.000000\",\"2018-01-12 00:00:00.000000\",\"2018-01-16 00:00:00.000000\",\"2018-01-17 00:00:00.000000\",\"2018-01-18 00:00:00.000000\",\"2018-01-19 00:00:00.000000\",\"2018-01-22 00:00:00.000000\",\"2018-01-23 00:00:00.000000\",\"2018-01-24 00:00:00.000000\",\"2018-01-25 00:00:00.000000\",\"2018-01-26 00:00:00.000000\",\"2018-01-29 00:00:00.000000\",\"2018-01-30 00:00:00.000000\",\"2018-01-31 00:00:00.000000\",\"2018-02-01 00:00:00.000000\",\"2018-02-02 00:00:00.000000\",\"2018-02-05 00:00:00.000000\",\"2018-02-06 00:00:00.000000\",\"2018-02-07 00:00:00.000000\",\"2018-02-08 00:00:00.000000\",\"2018-02-09 00:00:00.000000\",\"2018-02-12 00:00:00.000000\",\"2018-02-13 00:00:00.000000\",\"2018-02-14 00:00:00.000000\",\"2018-02-15 00:00:00.000000\",\"2018-02-16 00:00:00.000000\",\"2018-02-20 00:00:00.000000\",\"2018-02-21 00:00:00.000000\",\"2018-02-22 00:00:00.000000\",\"2018-02-23 00:00:00.000000\",\"2018-02-26 00:00:00.000000\",\"2018-02-27 00:00:00.000000\",\"2018-02-28 00:00:00.000000\",\"2018-03-01 00:00:00.000000\",\"2018-03-02 00:00:00.000000\",\"2018-03-05 00:00:00.000000\",\"2018-03-06 00:00:00.000000\",\"2018-03-07 00:00:00.000000\",\"2018-03-08 00:00:00.000000\",\"2018-03-09 00:00:00.000000\",\"2018-03-12 00:00:00.000000\",\"2018-03-13 00:00:00.000000\",\"2018-03-14 00:00:00.000000\",\"2018-03-15 00:00:00.000000\",\"2018-03-16 00:00:00.000000\",\"2018-03-19 00:00:00.000000\",\"2018-03-20 00:00:00.000000\",\"2018-03-21 00:00:00.000000\",\"2018-03-22 00:00:00.000000\",\"2018-03-23 00:00:00.000000\",\"2018-03-26 00:00:00.000000\",\"2018-03-27 00:00:00.000000\",\"2018-03-28 00:00:00.000000\",\"2018-03-29 00:00:00.000000\",\"2018-04-02 00:00:00.000000\",\"2018-04-03 00:00:00.000000\",\"2018-04-04 00:00:00.000000\",\"2018-04-05 00:00:00.000000\",\"2018-04-06 00:00:00.000000\",\"2018-04-09 00:00:00.000000\",\"2018-04-10 00:00:00.000000\",\"2018-04-11 00:00:00.000000\",\"2018-04-12 00:00:00.000000\",\"2018-04-13 00:00:00.000000\",\"2018-04-16 00:00:00.000000\",\"2018-04-17 00:00:00.000000\",\"2018-04-18 00:00:00.000000\",\"2018-04-19 00:00:00.000000\",\"2018-04-20 00:00:00.000000\",\"2018-04-23 00:00:00.000000\",\"2018-04-24 00:00:00.000000\",\"2018-04-25 00:00:00.000000\",\"2018-04-26 00:00:00.000000\",\"2018-04-27 00:00:00.000000\",\"2018-04-30 00:00:00.000000\",\"2018-05-01 00:00:00.000000\",\"2018-05-02 00:00:00.000000\",\"2018-05-03 00:00:00.000000\",\"2018-05-04 00:00:00.000000\",\"2018-05-07 00:00:00.000000\",\"2018-05-08 00:00:00.000000\",\"2018-05-09 00:00:00.000000\",\"2018-05-10 00:00:00.000000\",\"2018-05-11 00:00:00.000000\",\"2018-05-14 00:00:00.000000\",\"2018-05-15 00:00:00.000000\",\"2018-05-16 00:00:00.000000\",\"2018-05-17 00:00:00.000000\",\"2018-05-18 00:00:00.000000\",\"2018-05-21 00:00:00.000000\",\"2018-05-22 00:00:00.000000\",\"2018-05-23 00:00:00.000000\",\"2018-05-24 00:00:00.000000\",\"2018-05-25 00:00:00.000000\",\"2018-05-29 00:00:00.000000\",\"2018-05-30 00:00:00.000000\",\"2018-05-31 00:00:00.000000\",\"2018-06-01 00:00:00.000000\",\"2018-06-04 00:00:00.000000\",\"2018-06-05 00:00:00.000000\",\"2018-06-06 00:00:00.000000\",\"2018-06-07 00:00:00.000000\",\"2018-06-08 00:00:00.000000\",\"2018-06-11 00:00:00.000000\",\"2018-06-12 00:00:00.000000\",\"2018-06-13 00:00:00.000000\",\"2018-06-14 00:00:00.000000\",\"2018-06-15 00:00:00.000000\",\"2018-06-18 00:00:00.000000\",\"2018-06-19 00:00:00.000000\",\"2018-06-20 00:00:00.000000\",\"2018-06-21 00:00:00.000000\",\"2018-06-22 00:00:00.000000\",\"2018-06-25 00:00:00.000000\",\"2018-06-26 00:00:00.000000\",\"2018-06-27 00:00:00.000000\",\"2018-06-28 00:00:00.000000\",\"2018-06-29 00:00:00.000000\",\"2018-07-02 00:00:00.000000\",\"2018-07-03 00:00:00.000000\",\"2018-07-05 00:00:00.000000\",\"2018-07-06 00:00:00.000000\",\"2018-07-09 00:00:00.000000\",\"2018-07-10 00:00:00.000000\",\"2018-07-11 00:00:00.000000\",\"2018-07-12 00:00:00.000000\",\"2018-07-13 00:00:00.000000\",\"2018-07-16 00:00:00.000000\",\"2018-07-17 00:00:00.000000\",\"2018-07-18 00:00:00.000000\",\"2018-07-19 00:00:00.000000\",\"2018-07-20 00:00:00.000000\",\"2018-07-23 00:00:00.000000\",\"2018-07-24 00:00:00.000000\",\"2018-07-25 00:00:00.000000\",\"2018-07-26 00:00:00.000000\",\"2018-07-27 00:00:00.000000\",\"2018-07-30 00:00:00.000000\",\"2018-07-31 00:00:00.000000\",\"2018-08-01 00:00:00.000000\",\"2018-08-02 00:00:00.000000\",\"2018-08-03 00:00:00.000000\",\"2018-08-06 00:00:00.000000\",\"2018-08-07 00:00:00.000000\",\"2018-08-08 00:00:00.000000\",\"2018-08-09 00:00:00.000000\",\"2018-08-10 00:00:00.000000\",\"2018-08-13 00:00:00.000000\",\"2018-08-14 00:00:00.000000\",\"2018-08-15 00:00:00.000000\",\"2018-08-16 00:00:00.000000\",\"2018-08-17 00:00:00.000000\",\"2018-08-20 00:00:00.000000\",\"2018-08-21 00:00:00.000000\",\"2018-08-22 00:00:00.000000\",\"2018-08-23 00:00:00.000000\",\"2018-08-24 00:00:00.000000\",\"2018-08-27 00:00:00.000000\",\"2018-08-28 00:00:00.000000\",\"2018-08-29 00:00:00.000000\",\"2018-08-30 00:00:00.000000\",\"2018-08-31 00:00:00.000000\",\"2018-09-04 00:00:00.000000\",\"2018-09-05 00:00:00.000000\",\"2018-09-06 00:00:00.000000\",\"2018-09-07 00:00:00.000000\",\"2018-09-10 00:00:00.000000\",\"2018-09-11 00:00:00.000000\",\"2018-09-12 00:00:00.000000\",\"2018-09-13 00:00:00.000000\",\"2018-09-14 00:00:00.000000\",\"2018-09-17 00:00:00.000000\",\"2018-09-18 00:00:00.000000\",\"2018-09-19 00:00:00.000000\",\"2018-09-20 00:00:00.000000\",\"2018-09-21 00:00:00.000000\",\"2018-09-24 00:00:00.000000\",\"2018-09-25 00:00:00.000000\",\"2018-09-26 00:00:00.000000\",\"2018-09-27 00:00:00.000000\",\"2018-09-28 00:00:00.000000\",\"2018-10-01 00:00:00.000000\",\"2018-10-02 00:00:00.000000\",\"2018-10-03 00:00:00.000000\",\"2018-10-04 00:00:00.000000\",\"2018-10-05 00:00:00.000000\",\"2018-10-08 00:00:00.000000\",\"2018-10-09 00:00:00.000000\",\"2018-10-10 00:00:00.000000\",\"2018-10-11 00:00:00.000000\",\"2018-10-12 00:00:00.000000\",\"2018-10-15 00:00:00.000000\",\"2018-10-16 00:00:00.000000\",\"2018-10-17 00:00:00.000000\",\"2018-10-18 00:00:00.000000\",\"2018-10-19 00:00:00.000000\",\"2018-10-22 00:00:00.000000\",\"2018-10-23 00:00:00.000000\",\"2018-10-24 00:00:00.000000\",\"2018-10-25 00:00:00.000000\",\"2018-10-26 00:00:00.000000\",\"2018-10-29 00:00:00.000000\",\"2018-10-30 00:00:00.000000\",\"2018-10-31 00:00:00.000000\",\"2018-11-01 00:00:00.000000\",\"2018-11-02 00:00:00.000000\",\"2018-11-05 00:00:00.000000\",\"2018-11-06 00:00:00.000000\",\"2018-11-07 00:00:00.000000\",\"2018-11-08 00:00:00.000000\",\"2018-11-09 00:00:00.000000\",\"2018-11-12 00:00:00.000000\",\"2018-11-13 00:00:00.000000\",\"2018-11-14 00:00:00.000000\",\"2018-11-15 00:00:00.000000\",\"2018-11-16 00:00:00.000000\",\"2018-11-19 00:00:00.000000\",\"2018-11-20 00:00:00.000000\",\"2018-11-21 00:00:00.000000\",\"2018-11-23 00:00:00.000000\",\"2018-11-26 00:00:00.000000\",\"2018-11-27 00:00:00.000000\",\"2018-11-28 00:00:00.000000\",\"2018-11-29 00:00:00.000000\",\"2018-11-30 00:00:00.000000\",\"2018-12-03 00:00:00.000000\",\"2018-12-04 00:00:00.000000\",\"2018-12-06 00:00:00.000000\",\"2018-12-07 00:00:00.000000\",\"2018-12-10 00:00:00.000000\",\"2018-12-11 00:00:00.000000\",\"2018-12-12 00:00:00.000000\",\"2018-12-13 00:00:00.000000\",\"2018-12-14 00:00:00.000000\",\"2018-12-17 00:00:00.000000\",\"2018-12-18 00:00:00.000000\",\"2018-12-19 00:00:00.000000\",\"2018-12-20 00:00:00.000000\",\"2018-12-21 00:00:00.000000\",\"2018-12-24 00:00:00.000000\",\"2018-12-26 00:00:00.000000\",\"2018-12-27 00:00:00.000000\",\"2018-12-28 00:00:00.000000\",\"2018-12-31 00:00:00.000000\",\"2019-01-02 00:00:00.000000\",\"2019-01-03 00:00:00.000000\",\"2019-01-04 00:00:00.000000\",\"2019-01-07 00:00:00.000000\",\"2019-01-08 00:00:00.000000\",\"2019-01-09 00:00:00.000000\",\"2019-01-10 00:00:00.000000\",\"2019-01-11 00:00:00.000000\",\"2019-01-14 00:00:00.000000\",\"2019-01-15 00:00:00.000000\",\"2019-01-16 00:00:00.000000\",\"2019-01-17 00:00:00.000000\",\"2019-01-18 00:00:00.000000\",\"2019-01-22 00:00:00.000000\",\"2019-01-23 00:00:00.000000\",\"2019-01-24 00:00:00.000000\",\"2019-01-25 00:00:00.000000\",\"2019-01-28 00:00:00.000000\",\"2019-01-29 00:00:00.000000\",\"2019-01-30 00:00:00.000000\",\"2019-01-31 00:00:00.000000\",\"2019-02-01 00:00:00.000000\",\"2019-02-04 00:00:00.000000\",\"2019-02-05 00:00:00.000000\",\"2019-02-06 00:00:00.000000\",\"2019-02-07 00:00:00.000000\",\"2019-02-08 00:00:00.000000\",\"2019-02-11 00:00:00.000000\",\"2019-02-12 00:00:00.000000\",\"2019-02-13 00:00:00.000000\",\"2019-02-14 00:00:00.000000\",\"2019-02-15 00:00:00.000000\",\"2019-02-19 00:00:00.000000\",\"2019-02-20 00:00:00.000000\",\"2019-02-21 00:00:00.000000\",\"2019-02-22 00:00:00.000000\",\"2019-02-25 00:00:00.000000\",\"2019-02-26 00:00:00.000000\",\"2019-02-27 00:00:00.000000\",\"2019-02-28 00:00:00.000000\",\"2019-03-01 00:00:00.000000\",\"2019-03-04 00:00:00.000000\",\"2019-03-05 00:00:00.000000\",\"2019-03-06 00:00:00.000000\",\"2019-03-07 00:00:00.000000\",\"2019-03-08 00:00:00.000000\",\"2019-03-11 00:00:00.000000\",\"2019-03-12 00:00:00.000000\",\"2019-03-13 00:00:00.000000\",\"2019-03-14 00:00:00.000000\",\"2019-03-15 00:00:00.000000\",\"2019-03-18 00:00:00.000000\",\"2019-03-19 00:00:00.000000\",\"2019-03-20 00:00:00.000000\",\"2019-03-21 00:00:00.000000\",\"2019-03-22 00:00:00.000000\",\"2019-03-25 00:00:00.000000\",\"2019-03-26 00:00:00.000000\",\"2019-03-27 00:00:00.000000\",\"2019-03-28 00:00:00.000000\",\"2019-03-29 00:00:00.000000\",\"2019-04-01 00:00:00.000000\",\"2019-04-02 00:00:00.000000\",\"2019-04-03 00:00:00.000000\",\"2019-04-04 00:00:00.000000\",\"2019-04-05 00:00:00.000000\",\"2019-04-08 00:00:00.000000\",\"2019-04-09 00:00:00.000000\",\"2019-04-10 00:00:00.000000\",\"2019-04-11 00:00:00.000000\",\"2019-04-12 00:00:00.000000\",\"2019-04-15 00:00:00.000000\",\"2019-04-16 00:00:00.000000\",\"2019-04-17 00:00:00.000000\",\"2019-04-18 00:00:00.000000\",\"2019-04-22 00:00:00.000000\",\"2019-04-23 00:00:00.000000\",\"2019-04-24 00:00:00.000000\",\"2019-04-25 00:00:00.000000\",\"2019-04-26 00:00:00.000000\",\"2019-04-29 00:00:00.000000\",\"2019-04-30 00:00:00.000000\",\"2019-05-01 00:00:00.000000\",\"2019-05-02 00:00:00.000000\",\"2019-05-03 00:00:00.000000\",\"2019-05-06 00:00:00.000000\",\"2019-05-07 00:00:00.000000\",\"2019-05-08 00:00:00.000000\",\"2019-05-09 00:00:00.000000\",\"2019-05-10 00:00:00.000000\",\"2019-05-13 00:00:00.000000\",\"2019-05-14 00:00:00.000000\",\"2019-05-15 00:00:00.000000\",\"2019-05-16 00:00:00.000000\",\"2019-05-17 00:00:00.000000\",\"2019-05-20 00:00:00.000000\",\"2019-05-21 00:00:00.000000\",\"2019-05-22 00:00:00.000000\",\"2019-05-23 00:00:00.000000\",\"2019-05-24 00:00:00.000000\",\"2019-05-28 00:00:00.000000\",\"2019-05-29 00:00:00.000000\",\"2019-05-30 00:00:00.000000\",\"2019-05-31 00:00:00.000000\",\"2019-06-03 00:00:00.000000\",\"2019-06-04 00:00:00.000000\",\"2019-06-05 00:00:00.000000\",\"2019-06-06 00:00:00.000000\",\"2019-06-07 00:00:00.000000\",\"2019-06-10 00:00:00.000000\",\"2019-06-11 00:00:00.000000\",\"2019-06-12 00:00:00.000000\",\"2019-06-13 00:00:00.000000\",\"2019-06-14 00:00:00.000000\",\"2019-06-17 00:00:00.000000\",\"2019-06-18 00:00:00.000000\",\"2019-06-19 00:00:00.000000\",\"2019-06-20 00:00:00.000000\",\"2019-06-21 00:00:00.000000\",\"2019-06-24 00:00:00.000000\",\"2019-06-25 00:00:00.000000\",\"2019-06-26 00:00:00.000000\",\"2019-06-27 00:00:00.000000\",\"2019-06-28 00:00:00.000000\",\"2019-07-01 00:00:00.000000\",\"2019-07-02 00:00:00.000000\",\"2019-07-03 00:00:00.000000\",\"2019-07-05 00:00:00.000000\",\"2019-07-08 00:00:00.000000\",\"2019-07-09 00:00:00.000000\",\"2019-07-10 00:00:00.000000\",\"2019-07-11 00:00:00.000000\",\"2019-07-12 00:00:00.000000\",\"2019-07-15 00:00:00.000000\",\"2019-07-16 00:00:00.000000\",\"2019-07-17 00:00:00.000000\",\"2019-07-18 00:00:00.000000\",\"2019-07-19 00:00:00.000000\",\"2019-07-22 00:00:00.000000\",\"2019-07-23 00:00:00.000000\",\"2019-07-24 00:00:00.000000\",\"2019-07-25 00:00:00.000000\",\"2019-07-26 00:00:00.000000\",\"2019-07-29 00:00:00.000000\",\"2019-07-30 00:00:00.000000\",\"2019-07-31 00:00:00.000000\",\"2019-08-01 00:00:00.000000\",\"2019-08-02 00:00:00.000000\",\"2019-08-05 00:00:00.000000\",\"2019-08-06 00:00:00.000000\",\"2019-08-07 00:00:00.000000\",\"2019-08-08 00:00:00.000000\",\"2019-08-09 00:00:00.000000\",\"2019-08-12 00:00:00.000000\",\"2019-08-13 00:00:00.000000\",\"2019-08-14 00:00:00.000000\",\"2019-08-15 00:00:00.000000\",\"2019-08-16 00:00:00.000000\",\"2019-08-19 00:00:00.000000\",\"2019-08-20 00:00:00.000000\",\"2019-08-21 00:00:00.000000\",\"2019-08-22 00:00:00.000000\",\"2019-08-23 00:00:00.000000\",\"2019-08-26 00:00:00.000000\",\"2019-08-27 00:00:00.000000\",\"2019-08-28 00:00:00.000000\",\"2019-08-29 00:00:00.000000\",\"2019-08-30 00:00:00.000000\",\"2019-09-03 00:00:00.000000\",\"2019-09-04 00:00:00.000000\",\"2019-09-05 00:00:00.000000\",\"2019-09-06 00:00:00.000000\",\"2019-09-09 00:00:00.000000\",\"2019-09-10 00:00:00.000000\",\"2019-09-11 00:00:00.000000\",\"2019-09-12 00:00:00.000000\",\"2019-09-13 00:00:00.000000\",\"2019-09-16 00:00:00.000000\",\"2019-09-17 00:00:00.000000\",\"2019-09-18 00:00:00.000000\",\"2019-09-19 00:00:00.000000\",\"2019-09-20 00:00:00.000000\",\"2019-09-23 00:00:00.000000\",\"2019-09-24 00:00:00.000000\",\"2019-09-25 00:00:00.000000\",\"2019-09-26 00:00:00.000000\",\"2019-09-27 00:00:00.000000\",\"2019-09-30 00:00:00.000000\",\"2019-10-01 00:00:00.000000\",\"2019-10-02 00:00:00.000000\",\"2019-10-03 00:00:00.000000\",\"2019-10-04 00:00:00.000000\",\"2019-10-07 00:00:00.000000\",\"2019-10-08 00:00:00.000000\",\"2019-10-09 00:00:00.000000\",\"2019-10-10 00:00:00.000000\",\"2019-10-11 00:00:00.000000\",\"2019-10-14 00:00:00.000000\",\"2019-10-15 00:00:00.000000\",\"2019-10-16 00:00:00.000000\",\"2019-10-17 00:00:00.000000\",\"2019-10-18 00:00:00.000000\",\"2019-10-21 00:00:00.000000\",\"2019-10-22 00:00:00.000000\",\"2019-10-23 00:00:00.000000\",\"2019-10-24 00:00:00.000000\",\"2019-10-25 00:00:00.000000\",\"2019-10-28 00:00:00.000000\",\"2019-10-29 00:00:00.000000\",\"2019-10-30 00:00:00.000000\",\"2019-10-31 00:00:00.000000\",\"2019-11-01 00:00:00.000000\",\"2019-11-04 00:00:00.000000\",\"2019-11-05 00:00:00.000000\",\"2019-11-06 00:00:00.000000\",\"2019-11-07 00:00:00.000000\",\"2019-11-08 00:00:00.000000\",\"2019-11-11 00:00:00.000000\",\"2019-11-12 00:00:00.000000\",\"2019-11-13 00:00:00.000000\",\"2019-11-14 00:00:00.000000\",\"2019-11-15 00:00:00.000000\",\"2019-11-18 00:00:00.000000\",\"2019-11-19 00:00:00.000000\",\"2019-11-20 00:00:00.000000\",\"2019-11-21 00:00:00.000000\",\"2019-11-22 00:00:00.000000\",\"2019-11-25 00:00:00.000000\",\"2019-11-26 00:00:00.000000\",\"2019-11-27 00:00:00.000000\",\"2019-11-29 00:00:00.000000\",\"2019-12-02 00:00:00.000000\",\"2019-12-03 00:00:00.000000\",\"2019-12-04 00:00:00.000000\",\"2019-12-05 00:00:00.000000\",\"2019-12-06 00:00:00.000000\",\"2019-12-09 00:00:00.000000\",\"2019-12-10 00:00:00.000000\",\"2019-12-11 00:00:00.000000\",\"2019-12-12 00:00:00.000000\",\"2019-12-13 00:00:00.000000\",\"2019-12-16 00:00:00.000000\",\"2019-12-17 00:00:00.000000\",\"2019-12-18 00:00:00.000000\",\"2019-12-19 00:00:00.000000\",\"2019-12-20 00:00:00.000000\",\"2019-12-23 00:00:00.000000\",\"2019-12-24 00:00:00.000000\",\"2019-12-26 00:00:00.000000\",\"2019-12-27 00:00:00.000000\",\"2019-12-30 00:00:00.000000\",\"2019-12-31 00:00:00.000000\",\"2020-01-02 00:00:00.000000\",\"2020-01-03 00:00:00.000000\",\"2020-01-06 00:00:00.000000\",\"2020-01-07 00:00:00.000000\",\"2020-01-08 00:00:00.000000\",\"2020-01-09 00:00:00.000000\",\"2020-01-10 00:00:00.000000\",\"2020-01-13 00:00:00.000000\",\"2020-01-14 00:00:00.000000\",\"2020-01-15 00:00:00.000000\",\"2020-01-16 00:00:00.000000\",\"2020-01-17 00:00:00.000000\",\"2020-01-21 00:00:00.000000\",\"2020-01-22 00:00:00.000000\",\"2020-01-23 00:00:00.000000\",\"2020-01-24 00:00:00.000000\",\"2020-01-27 00:00:00.000000\",\"2020-01-28 00:00:00.000000\",\"2020-01-29 00:00:00.000000\",\"2020-01-30 00:00:00.000000\",\"2020-01-31 00:00:00.000000\",\"2020-02-03 00:00:00.000000\",\"2020-02-04 00:00:00.000000\",\"2020-02-05 00:00:00.000000\",\"2020-02-06 00:00:00.000000\",\"2020-02-07 00:00:00.000000\",\"2020-02-10 00:00:00.000000\",\"2020-02-11 00:00:00.000000\",\"2020-02-12 00:00:00.000000\",\"2020-02-13 00:00:00.000000\",\"2020-02-14 00:00:00.000000\",\"2020-02-18 00:00:00.000000\",\"2020-02-19 00:00:00.000000\",\"2020-02-20 00:00:00.000000\",\"2020-02-21 00:00:00.000000\",\"2020-02-24 00:00:00.000000\",\"2020-02-25 00:00:00.000000\",\"2020-02-26 00:00:00.000000\",\"2020-02-27 00:00:00.000000\",\"2020-02-28 00:00:00.000000\",\"2020-03-02 00:00:00.000000\",\"2020-03-03 00:00:00.000000\",\"2020-03-04 00:00:00.000000\",\"2020-03-05 00:00:00.000000\",\"2020-03-06 00:00:00.000000\",\"2020-03-09 00:00:00.000000\",\"2020-03-10 00:00:00.000000\",\"2020-03-11 00:00:00.000000\",\"2020-03-12 00:00:00.000000\",\"2020-03-13 00:00:00.000000\",\"2020-03-16 00:00:00.000000\",\"2020-03-17 00:00:00.000000\",\"2020-03-18 00:00:00.000000\",\"2020-03-19 00:00:00.000000\",\"2020-03-20 00:00:00.000000\",\"2020-03-23 00:00:00.000000\",\"2020-03-24 00:00:00.000000\",\"2020-03-25 00:00:00.000000\",\"2020-03-26 00:00:00.000000\",\"2020-03-27 00:00:00.000000\",\"2020-03-30 00:00:00.000000\",\"2020-03-31 00:00:00.000000\",\"2020-04-01 00:00:00.000000\",\"2020-04-02 00:00:00.000000\",\"2020-04-03 00:00:00.000000\",\"2020-04-06 00:00:00.000000\",\"2020-04-07 00:00:00.000000\",\"2020-04-08 00:00:00.000000\",\"2020-04-09 00:00:00.000000\",\"2020-04-13 00:00:00.000000\",\"2020-04-14 00:00:00.000000\",\"2020-04-15 00:00:00.000000\",\"2020-04-16 00:00:00.000000\",\"2020-04-17 00:00:00.000000\",\"2020-04-20 00:00:00.000000\",\"2020-04-21 00:00:00.000000\",\"2020-04-22 00:00:00.000000\",\"2020-04-23 00:00:00.000000\",\"2020-04-24 00:00:00.000000\",\"2020-04-27 00:00:00.000000\",\"2020-04-28 00:00:00.000000\",\"2020-04-29 00:00:00.000000\",\"2020-04-30 00:00:00.000000\",\"2020-05-01 00:00:00.000000\",\"2020-05-04 00:00:00.000000\",\"2020-05-05 00:00:00.000000\",\"2020-05-06 00:00:00.000000\",\"2020-05-07 00:00:00.000000\",\"2020-05-08 00:00:00.000000\",\"2020-05-11 00:00:00.000000\",\"2020-05-12 00:00:00.000000\",\"2020-05-13 00:00:00.000000\",\"2020-05-14 00:00:00.000000\",\"2020-05-15 00:00:00.000000\",\"2020-05-18 00:00:00.000000\",\"2020-05-19 00:00:00.000000\",\"2020-05-20 00:00:00.000000\",\"2020-05-21 00:00:00.000000\",\"2020-05-22 00:00:00.000000\",\"2020-05-26 00:00:00.000000\",\"2020-05-27 00:00:00.000000\",\"2020-05-28 00:00:00.000000\",\"2020-05-29 00:00:00.000000\",\"2020-06-01 00:00:00.000000\",\"2020-06-02 00:00:00.000000\",\"2020-06-03 00:00:00.000000\",\"2020-06-04 00:00:00.000000\",\"2020-06-05 00:00:00.000000\",\"2020-06-08 00:00:00.000000\",\"2020-06-09 00:00:00.000000\",\"2020-06-10 00:00:00.000000\",\"2020-06-11 00:00:00.000000\",\"2020-06-12 00:00:00.000000\",\"2020-06-15 00:00:00.000000\",\"2020-06-16 00:00:00.000000\",\"2020-06-17 00:00:00.000000\",\"2020-06-18 00:00:00.000000\",\"2020-06-19 00:00:00.000000\",\"2020-06-22 00:00:00.000000\",\"2020-06-23 00:00:00.000000\",\"2020-06-24 00:00:00.000000\",\"2020-06-25 00:00:00.000000\",\"2020-06-26 00:00:00.000000\",\"2020-06-29 00:00:00.000000\",\"2020-06-30 00:00:00.000000\",\"2020-07-01 00:00:00.000000\",\"2020-07-02 00:00:00.000000\",\"2020-07-06 00:00:00.000000\",\"2020-07-07 00:00:00.000000\",\"2020-07-08 00:00:00.000000\",\"2020-07-09 00:00:00.000000\",\"2020-07-10 00:00:00.000000\",\"2020-07-13 00:00:00.000000\",\"2020-07-14 00:00:00.000000\",\"2020-07-15 00:00:00.000000\",\"2020-07-16 00:00:00.000000\",\"2020-07-17 00:00:00.000000\",\"2020-07-20 00:00:00.000000\",\"2020-07-21 00:00:00.000000\",\"2020-07-22 00:00:00.000000\",\"2020-07-23 00:00:00.000000\",\"2020-07-24 00:00:00.000000\",\"2020-07-27 00:00:00.000000\",\"2020-07-28 00:00:00.000000\",\"2020-07-29 00:00:00.000000\",\"2020-07-30 00:00:00.000000\",\"2020-07-31 00:00:00.000000\",\"2020-08-03 00:00:00.000000\",\"2020-08-04 00:00:00.000000\",\"2020-08-05 00:00:00.000000\",\"2020-08-06 00:00:00.000000\",\"2020-08-07 00:00:00.000000\",\"2020-08-10 00:00:00.000000\",\"2020-08-11 00:00:00.000000\",\"2020-08-12 00:00:00.000000\",\"2020-08-13 00:00:00.000000\",\"2020-08-14 00:00:00.000000\",\"2020-08-17 00:00:00.000000\",\"2020-08-18 00:00:00.000000\",\"2020-08-19 00:00:00.000000\",\"2020-08-20 00:00:00.000000\",\"2020-08-21 00:00:00.000000\",\"2020-08-24 00:00:00.000000\",\"2020-08-25 00:00:00.000000\",\"2020-08-26 00:00:00.000000\",\"2020-08-27 00:00:00.000000\",\"2020-08-28 00:00:00.000000\",\"2020-08-31 00:00:00.000000\",\"2020-09-01 00:00:00.000000\",\"2020-09-02 00:00:00.000000\",\"2020-09-03 00:00:00.000000\",\"2020-09-04 00:00:00.000000\",\"2020-09-08 00:00:00.000000\",\"2020-09-09 00:00:00.000000\",\"2020-09-10 00:00:00.000000\",\"2020-09-11 00:00:00.000000\",\"2020-09-14 00:00:00.000000\",\"2020-09-15 00:00:00.000000\",\"2020-09-16 00:00:00.000000\",\"2020-09-17 00:00:00.000000\",\"2020-09-18 00:00:00.000000\",\"2020-09-21 00:00:00.000000\",\"2020-09-22 00:00:00.000000\",\"2020-09-23 00:00:00.000000\",\"2020-09-24 00:00:00.000000\",\"2020-09-25 00:00:00.000000\",\"2020-09-28 00:00:00.000000\",\"2020-09-29 00:00:00.000000\",\"2020-09-30 00:00:00.000000\",\"2020-10-01 00:00:00.000000\",\"2020-10-02 00:00:00.000000\",\"2020-10-05 00:00:00.000000\",\"2020-10-06 00:00:00.000000\",\"2020-10-07 00:00:00.000000\",\"2020-10-08 00:00:00.000000\",\"2020-10-09 00:00:00.000000\",\"2020-10-12 00:00:00.000000\",\"2020-10-13 00:00:00.000000\",\"2020-10-14 00:00:00.000000\",\"2020-10-15 00:00:00.000000\",\"2020-10-16 00:00:00.000000\",\"2020-10-19 00:00:00.000000\",\"2020-10-20 00:00:00.000000\",\"2020-10-21 00:00:00.000000\",\"2020-10-22 00:00:00.000000\",\"2020-10-23 00:00:00.000000\",\"2020-10-26 00:00:00.000000\",\"2020-10-27 00:00:00.000000\",\"2020-10-28 00:00:00.000000\",\"2020-10-29 00:00:00.000000\",\"2020-10-30 00:00:00.000000\",\"2020-11-02 00:00:00.000000\",\"2020-11-03 00:00:00.000000\",\"2020-11-04 00:00:00.000000\",\"2020-11-05 00:00:00.000000\",\"2020-11-06 00:00:00.000000\",\"2020-11-09 00:00:00.000000\",\"2020-11-10 00:00:00.000000\",\"2020-11-11 00:00:00.000000\",\"2020-11-12 00:00:00.000000\",\"2020-11-13 00:00:00.000000\",\"2020-11-16 00:00:00.000000\",\"2020-11-17 00:00:00.000000\",\"2020-11-18 00:00:00.000000\",\"2020-11-19 00:00:00.000000\",\"2020-11-20 00:00:00.000000\",\"2020-11-23 00:00:00.000000\",\"2020-11-24 00:00:00.000000\",\"2020-11-25 00:00:00.000000\",\"2020-11-27 00:00:00.000000\",\"2020-11-30 00:00:00.000000\",\"2020-12-01 00:00:00.000000\",\"2020-12-02 00:00:00.000000\",\"2020-12-03 00:00:00.000000\",\"2020-12-04 00:00:00.000000\"],\"tags\":[[[\"time\",\"time\",null]]]},\"id\":\"1211\",\"type\":\"FactorRange\"},{\"attributes\":{\"line_alpha\":0.2,\"line_color\":\"#1f77b3\",\"line_width\":2,\"x\":{\"field\":\"time\"},\"y\":{\"field\":\"daily_returns\"}},\"id\":\"1248\",\"type\":\"Line\"},{\"attributes\":{\"bottom_units\":\"screen\",\"fill_alpha\":0.5,\"fill_color\":\"lightgrey\",\"left_units\":\"screen\",\"level\":\"overlay\",\"line_alpha\":1.0,\"line_color\":\"black\",\"line_dash\":[4,4],\"line_width\":2,\"right_units\":\"screen\",\"top_units\":\"screen\"},\"id\":\"1235\",\"type\":\"BoxAnnotation\"},{\"attributes\":{},\"id\":\"1261\",\"type\":\"UnionRenderers\"},{\"attributes\":{\"source\":{\"id\":\"1243\"}},\"id\":\"1250\",\"type\":\"CDSView\"},{\"attributes\":{\"line_alpha\":0.1,\"line_color\":\"#1f77b3\",\"line_width\":2,\"x\":{\"field\":\"time\"},\"y\":{\"field\":\"daily_returns\"}},\"id\":\"1247\",\"type\":\"Line\"}],\"root_ids\":[\"1209\"]},\"title\":\"Bokeh Application\",\"version\":\"2.2.3\"}};\n",
       "    var render_items = [{\"docid\":\"5ef7d18b-02f8-4e78-90f9-1f4eea06a22d\",\"root_ids\":[\"1209\"],\"roots\":{\"1209\":\"28915e47-9013-4274-8e7e-856704011df5\"}}];\n",
       "    root.Bokeh.embed.embed_items_notebook(docs_json, render_items);\n",
       "  }\n",
       "  if (root.Bokeh !== undefined && root.Bokeh.Panel !== undefined) {\n",
       "    embed_document(root);\n",
       "  } else {\n",
       "    var attempts = 0;\n",
       "    var timer = setInterval(function(root) {\n",
       "      if (root.Bokeh !== undefined && root.Bokeh.Panel !== undefined) {\n",
       "        clearInterval(timer);\n",
       "        embed_document(root);\n",
       "      } else if (document.readyState == \"complete\") {\n",
       "        attempts++;\n",
       "        if (attempts > 100) {\n",
       "          clearInterval(timer);\n",
       "          console.log(\"Bokeh: ERROR: Unable to run BokehJS code because BokehJS library is missing\");\n",
       "        }\n",
       "      }\n",
       "    }, 10, root)\n",
       "  }\n",
       "})(window);</script>"
      ],
      "text/plain": [
       ":Curve   [time]   (daily_returns)"
      ]
     },
     "execution_count": 63,
     "metadata": {
      "application/vnd.holoviews_exec.v0+json": {
       "id": "1209"
      }
     },
     "output_type": "execute_result"
    }
   ],
   "source": [
    "# Create an interactive visaulization with hvplot to plot the cumulative returns for PYPL.\n",
    "pypl_dataframe.hvplot.line(\n",
    "    title = \"PYPL Cumulative Returns\",\n",
    "    x = \"time\",\n",
    "    y = \"daily_returns\",\n",
    "    xlabel = \"Time\",\n",
    "    ylabel = \"Daily Returns\"\n",
    ")"
   ]
  },
  {
   "cell_type": "markdown",
   "metadata": {},
   "source": [
    "## Optimize the SQL Queries\n",
    "\n",
    "For this part of the assignment, you’ll continue to analyze a single asset (PYPL) from the ETF. You’ll use advanced SQL queries to optimize the efficiency of accessing data from the database.\n",
    "\n",
    "Complete the following steps:\n",
    "\n",
    "1. Access the closing prices for PYPL that are greater than 200 by completing the following steps:\n",
    "\n",
    "1. Access the closing prices for PYPL that are greater than 200 by completing the following steps:\n",
    "\n",
    "    - Write a SQL `SELECT` statement to select the dates where the PYPL closing price was higher than 200.0.\n",
    "\n",
    "    - Select the “time” and “close” columns for those dates where the closing price was higher than 200.0.\n",
    "\n",
    "    - Using the SQL statement, read the data from the database into a Pandas DataFrame, and then review the resulting DataFrame.\n",
    "\n",
    "2. Find the top 10 daily returns for PYPL by completing the following steps:\n",
    "\n",
    "    -  Write a SQL statement to find the top 10 PYPL daily returns. Make sure to do the following:\n",
    "\n",
    "        * Use `SELECT` to select only the “time” and “daily_returns” columns.\n",
    "\n",
    "        * Use `ORDER` to sort the results in descending order by the “daily_returns” column.\n",
    "\n",
    "        * Use `LIMIT` to limit the results to the top 10 daily return values.\n",
    "\n",
    "    - Using the SQL statement, read the data from the database into a Pandas DataFrame, and then review the resulting DataFrame.\n"
   ]
  },
  {
   "cell_type": "markdown",
   "metadata": {},
   "source": [
    "### Step 1: Access the closing prices for PYPL that are greater than 200 by completing the following steps:\n",
    "\n",
    "    - Write a SQL `SELECT` statement to select the dates where the PYPL closing price was higher than 200.0.\n",
    "\n",
    "    - Select the “time” and “close” columns for those dates where the closing price was higher than 200.0.\n",
    "\n",
    "    - Using the SQL statement, read the data from the database into a Pandas DataFrame, and then review the resulting DataFrame.\n"
   ]
  },
  {
   "cell_type": "code",
   "execution_count": null,
   "metadata": {
    "scrolled": true
   },
   "outputs": [],
   "source": [
    "# Write a SQL SELECT statement to select the time and close columns \n",
    "# where the PYPL closing price was higher than 200.0.\n",
    "query = # YOUR CODE HERE\n",
    "\n",
    "# Using the query, read the data from the database into a Pandas DataFrame\n",
    "pypl_higher_than_200 = # YOUR CODE HERE\n",
    "\n",
    "# Review the resulting DataFrame\n",
    "# YOUR CODE HERE\n"
   ]
  },
  {
   "cell_type": "markdown",
   "metadata": {},
   "source": [
    "### Step 2: Find the top 10 daily returns for PYPL by completing the following steps:\n",
    "\n",
    "    -  Write a SQL statement to find the top 10 PYPL daily returns. Make sure to do the following:\n",
    "\n",
    "        * Use `SELECT` to select only the “time” and “daily_returns” columns.\n",
    "\n",
    "        * Use `ORDER` to sort the results in descending order by the “daily_returns” column.\n",
    "\n",
    "        * Use `LIMIT` to limit the results to the top 10 daily return values.\n",
    "\n",
    "    - Using the SQL statement, read the data from the database into a Pandas DataFrame, and then review the resulting DataFrame.\n"
   ]
  },
  {
   "cell_type": "code",
   "execution_count": null,
   "metadata": {},
   "outputs": [],
   "source": [
    "# Write a SQL SELECT statement to select the time and daily_returns columns\n",
    "# Sort the results in descending order and return only the top 10 return values\n",
    "query = # YOUR CODE HERE\n",
    "\n",
    "# Using the query, read the data from the database into a Pandas DataFrame\n",
    "pypl_top_10_returns = # YOUR CODE HERE\n",
    "\n",
    "# Review the resulting DataFrame\n",
    "# YOUR CODE HERE\n"
   ]
  },
  {
   "cell_type": "markdown",
   "metadata": {},
   "source": [
    "## Analyze the Fintech ETF Portfolio\n",
    "\n",
    "For this part of the assignment, you’ll build the entire ETF portfolio and then evaluate its performance. To do so, you’ll build the ETF portfolio by using SQL joins to combine all the data for each asset.\n",
    "\n",
    "Complete the following steps:\n",
    "\n",
    "1. Write a SQL query to join each table in the portfolio into a single DataFrame. To do so, complete the following steps:\n",
    "\n",
    "    - Use a SQL inner join to join each table on the “time” column. Access the “time” column in the `GDOT` table via the `GDOT.time` syntax. Access the “time” columns from the other tables via similar syntax.\n",
    "\n",
    "    - Using the SQL query, read the data from the database into a Pandas DataFrame. Review the resulting DataFrame.\n",
    "\n",
    "2. Create a DataFrame that averages the “daily_returns” columns for all four assets. Review the resulting DataFrame.\n",
    "\n",
    "    > **Hint** Assuming that this ETF contains equally weighted returns, you can average the returns for each asset to get the average returns of the portfolio. You can then use the average returns of the portfolio to calculate the annualized returns and the cumulative returns. For the calculation to get the average daily returns for the portfolio, use the following code:\n",
    "    >\n",
    "    > ```python\n",
    "    > etf_portfolio_returns = etf_portfolio['daily_returns'].mean(axis=1)\n",
    "    > ```\n",
    "    >\n",
    "    > You can use the average daily returns of the portfolio the same way that you used the daily returns of a single asset.\n",
    "\n",
    "3. Use the average daily returns in the `etf_portfolio_returns` DataFrame to calculate the annualized returns for the portfolio. Display the annualized return value of the ETF portfolio.\n",
    "\n",
    "> **Hint**  To calculate the annualized returns, multiply the mean of the `etf_portfolio_returns` values by 252.\n",
    ">\n",
    "> To convert the decimal values to percentages, multiply the results by 100.\n",
    "\n",
    "4. Use the average daily returns in the `etf_portfolio_returns` DataFrame to calculate the cumulative returns of the ETF portfolio.\n",
    "\n",
    "5. Using hvPlot, create an interactive line plot that visualizes the cumulative return values of the ETF portfolio. Reflect the “time” column of the DataFrame on the x-axis. Make sure that you professionally style and format your visualization to enhance its readability.\n"
   ]
  },
  {
   "cell_type": "markdown",
   "metadata": {},
   "source": [
    "### Step 1: Write a SQL query to join each table in the portfolio into a single DataFrame. To do so, complete the following steps:\n",
    "\n",
    "    - Use a SQL inner join to join each table on the “time” column. Access the “time” column in the `GDOT` table via the `GDOT.time` syntax. Access the “time” columns from the other tables via similar syntax.\n",
    "\n",
    "    - Using the SQL query, read the data from the database into a Pandas DataFrame. Review the resulting DataFrame."
   ]
  },
  {
   "cell_type": "code",
   "execution_count": null,
   "metadata": {
    "scrolled": true
   },
   "outputs": [],
   "source": [
    "# Wreate a SQL query to join each table in the portfolio into a single DataFrame \n",
    "# Use the time column from each table as the basis for the join\n",
    "query = # YOUR CODE HERE\n",
    "\n",
    "# Using the query, read the data from the database into a Pandas DataFrame\n",
    "etf_portfolio = # YOUR CODE HERE\n",
    "\n",
    "# Review the resulting DataFrame\n",
    "# YOUR CODE HERE\n"
   ]
  },
  {
   "cell_type": "markdown",
   "metadata": {},
   "source": [
    "### Step 2: Create a DataFrame that averages the “daily_returns” columns for all four assets. Review the resulting DataFrame."
   ]
  },
  {
   "cell_type": "code",
   "execution_count": null,
   "metadata": {
    "scrolled": true
   },
   "outputs": [],
   "source": [
    "# Create a DataFrame that displays the mean value of the “daily_returns” columns for all four assets.\n",
    "etf_portfolio_returns = # YOUR CODE HERE\n",
    "\n",
    "# Review the resulting DataFrame\n",
    "# YOUR CODE HERE\n"
   ]
  },
  {
   "cell_type": "markdown",
   "metadata": {},
   "source": [
    "### Step 3: Use the average daily returns in the etf_portfolio_returns DataFrame to calculate the annualized returns for the portfolio. Display the annualized return value of the ETF portfolio."
   ]
  },
  {
   "cell_type": "code",
   "execution_count": null,
   "metadata": {},
   "outputs": [],
   "source": [
    "# Use the average daily returns provided by the etf_portfolio_returns DataFrame \n",
    "# to calculate the annualized return for the portfolio. \n",
    "annualized_etf_portfolio_returns = # YOUR CODE HERE\n",
    "\n",
    "# Display the annualized return value of the ETF portfolio.\n",
    "# YOUR CODE HERE\n"
   ]
  },
  {
   "cell_type": "markdown",
   "metadata": {},
   "source": [
    "### Step 4: Use the average daily returns in the `etf_portfolio_returns` DataFrame to calculate the cumulative returns of the ETF portfolio."
   ]
  },
  {
   "cell_type": "code",
   "execution_count": null,
   "metadata": {},
   "outputs": [],
   "source": [
    "# Use the average daily returns provided by the etf_portfolio_returns DataFrame \n",
    "# to calculate the cumulative returns\n",
    "etf_cumulative_returns = # YOUR CODE HERE\n",
    "\n",
    "# Display the final cumulative return value\n",
    "# YOUR CODE HERE\n"
   ]
  },
  {
   "cell_type": "markdown",
   "metadata": {},
   "source": [
    "### Step 5: Using hvPlot, create an interactive line plot that visualizes the cumulative return values of the ETF portfolio. Reflect the “time” column of the DataFrame on the x-axis. Make sure that you professionally style and format your visualization to enhance its readability."
   ]
  },
  {
   "cell_type": "code",
   "execution_count": null,
   "metadata": {},
   "outputs": [],
   "source": [
    "# Using hvplot, create an interactive line plot that visualizes the ETF portfolios cumulative return values.\n",
    "# YOUR CODE HERE\n"
   ]
  },
  {
   "cell_type": "code",
   "execution_count": null,
   "metadata": {},
   "outputs": [],
   "source": []
  }
 ],
 "metadata": {
  "kernelspec": {
   "display_name": "Python (dev)",
   "language": "python",
   "name": "dev"
  },
  "language_info": {
   "codemirror_mode": {
    "name": "ipython",
    "version": 3
   },
   "file_extension": ".py",
   "mimetype": "text/x-python",
   "name": "python",
   "nbconvert_exporter": "python",
   "pygments_lexer": "ipython3",
   "version": "3.7.9"
  }
 },
 "nbformat": 4,
 "nbformat_minor": 4
}
